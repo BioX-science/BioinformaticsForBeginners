{
 "cells": [
  {
   "cell_type": "markdown",
   "metadata": {},
   "source": [
    "However, before concluding that we have found the DnaA box of Vibrio cholerae, the careful bioinformatician should check if there are other short regions in the Vibrio cholerae genome with multiple occurrences of \"ATGATCAAG\" (or \"CTTGATCAT\"). After all, maybe these strings occur as repeats throughout the entire Vibrio cholerae genome, rather than just in the ori region. This discussion implies the following computational problem.\n",
    "\n",
    "Pattern Matching Problem: ",
    " Find all occurrences of a pattern in a string. \n",
    "     Input: Strings Pattern and Genome.\n",
    "     Output: All starting positions in Genome where Pattern appears as a substring.\n",
    "\n",
    "We feel confident that you are ready to solve the Pattern Matching Problem on your own.  But we will give you a hint: note how similar this problem is to counting the number of occurrences of a pattern within a longer text.  In both problems, we range over the text with a window whose length is equal to the length of the pattern.  The only way in which our solution to the Pattern Matching Problem differs is that rather than counting the number of occurrences of the pattern, we first form an empty list and then append each starting position of the pattern to it when we encounter a match."
   ]
  },
  {
   "cell_type": "code",
   "execution_count": 2,
   "metadata": {},
   "outputs": [],
   "source": [
    "Pattern = \"ATAT\"\n",
    "Genome = \"GATATATGCATATACTT\""
   ]
  },
  {
   "cell_type": "code",
   "execution_count": 11,
   "metadata": {},
   "outputs": [],
   "source": [
    "def PatternMatching(Pattern, Genome):\n",
    "    positions = [] # output variable\n",
    "    k = len(Pattern) #Determines window Size\n",
    "    for i in range(len(Genome)-k+1):\n",
    "        _sub = Genome[i:i+k]\n",
    "        if _sub == Pattern:#If we find a match\n",
    "            positions.append(i)\n",
    "    return positions"
   ]
  },
  {
   "cell_type": "code",
   "execution_count": 12,
   "metadata": {},
   "outputs": [
    {
     "data": {
      "text/plain": [
       "[1, 3, 9]"
      ]
     },
     "execution_count": 12,
     "metadata": {},
     "output_type": "execute_result"
    }
   ],
   "source": [
    "PatternMatching(Pattern, Genome)"
   ]
  },
  {
   "cell_type": "code",
   "execution_count": 13,
   "metadata": {},
   "outputs": [
    {
     "data": {
      "text/plain": [
       "[397, 468, 525]"
      ]
     },
     "execution_count": 13,
     "metadata": {},
     "output_type": "execute_result"
    }
   ],
   "source": [
    "v_cholerae = \"ATCAATGATCAACGTAAGCTTCTAAGCATGATCAAGGTGCTCACACAGTTTATCCACAACCTGAGTGGATGACATCAAGATAGGTCGTTGTATCTCCTTCCTCTCGTACTCTCATGACCACGGAAAGATGATCAAGAGAGGATGATTTCTTGGCCATATCGCAATGAATACTTGTGACTTGTGCTTCCAATTGACATCTTCAGCGCCATATTGCGCTGGCCAAGGTGACGGAGCGGGATTACGAAAGCATGATCATGGCTGTTGTTCTGTTTATCTTGTTTTGACTGAGACTTGTTAGGATAGACGGTTTTTCATCACTGACTAGCCAAAGCCTTACTCTGCCTGACATCGACCGTAAATTGATAATGAATTTACATGCTTCCGCGACGATTTACCTCTTGATCATCGATCCGATTGAAGATCTTCAATTGTTAATTCTCTTGCCTCGACTCATAGCCATGATGAGCTCTTGATCATGTTTCCTTAACCCTCTATTTTTTACGGAAGAATGATCAAGCTGCTGCTCTTGATCATCGTTTC\"\n",
    "Pattern = \"CTTGATCAT\" \n",
    "PatternMatching(Pattern, v_cholerae)"
   ]
  },
  {
   "cell_type": "markdown",
   "metadata": {},
   "source": [
    "After solving the Pattern Matching Problem, we discover that \"ATGATCAAG\" appears 17 times in the following positions of the Vibrio cholerae genome:\n",
    "\n",
    "116556, 149355, 151913, 152013, 152394, 186189, 194276, 200076, 224527,\n",
    "307692, 479770, 610980, 653338, 679985, 768828, 878903, 985368\n",
    "\n",
    "With the exception of the three occurrences of \"ATGATCAAG\" in ori at starting positions 151913, 152013, and 152394, no other instances of \"ATGATCAAG\" form “clumps”, i.e., appear close to each other in a small region of the genome. The preceding exercise verifies that the same conclusion is reached when searching for \"CTTGATCAT\". We now have strong statistical evidence that \"ATGATCAAG\"/\"CTTGATCAT\" may represent the hidden message to DnaA to start replication.\n",
    "\n",
    "STOP and Think: Is it safe to conclude that \"ATGATCAAG\"/\"CTTGATCAT\" also represents a DnaA box in other bacterial genomes?"
   ]
  },
  {
   "cell_type": "markdown",
   "metadata": {},
   "source": [
    "We should not jump to the conclusion that \"ATGATCAAG\"/\"CTTGATCAT\" is a hidden message for all bacterial genomes without first checking whether it even appears in known ori regions from other bacteria. After all, maybe the clumping effect of \"ATGATCAAG\"/\"CTTGATCAT\" in the ori region of Vibrio cholerae is simply a statistical fluke that has nothing to do with replication. Or maybe different bacteria have different DnaA boxes . . .\n",
    "\n"
   ]
  },
  {
   "cell_type": "code",
   "execution_count": 20,
   "metadata": {},
   "outputs": [
    {
     "name": "stdout",
     "output_type": "stream",
     "text": [
      "atgatcaag\n",
      "0\n"
     ]
    }
   ],
   "source": [
    "\"\"\"Let’s check the proposed ori region of Thermotoga petrophila, a bacterium that thrives in extremely hot environments;\n",
    "its name derives from its discovery in the water beneath oil reservoirs, where temperatures can exceed 80℃ Celsius.\"\"\"\n",
    "def PatternCount(Text, Pattern):\n",
    "    count = 0\n",
    "    for i in range(len(Text)-len(Pattern)+1):\n",
    "        if Text[i:i+len(Pattern)] == Pattern:\n",
    "            count = count+1\n",
    "    return count\n",
    "\n",
    "Text = \"aactctatacctcctttttgtcgaatttgtgtgatttatagagaaaatcttattaactgaaactaaaatggtaggtttggtggtaggttttgtgtacattttgtagtatctgatttttaattacataccgtatattgtattaaattgacgaacaattgcatggaattgaatatatgcaaaacaaacctaccaccaaactctgtattgaccattttaggacaacttcagggtggtaggtttctgaagctctcatcaatagactattttagtctttacaaacaatattaccgttcagattcaagattctacaacgctgttttaatgggcgttgcagaaaacttaccacctaaaatccagtatccaagccgatttcagagaaacctaccacttacctaccacttacctaccacccgggtggtaagttgcagacattattaaaaacctcatcagaagcttgttcaaaaatttcaatactcgaaacctaccacctgcgtcccctattatttactactactaataatagcagtataattgatctga\"\n",
    "Pattern = \"ATGATCAAG\"\n",
    "count_1 = PatternCount(Text, Pattern.lower())\n",
    "print (count_1)"
   ]
  },
  {
   "cell_type": "code",
   "execution_count": 21,
   "metadata": {},
   "outputs": [
    {
     "name": "stdout",
     "output_type": "stream",
     "text": [
      "0\n"
     ]
    }
   ],
   "source": [
    "Pattern = \"CTTGATCAT\"\n",
    "count_2 = PatternCount(Text, Pattern.lower())\n",
    "print (count_2)"
   ]
  },
  {
   "cell_type": "code",
   "execution_count": 22,
   "metadata": {},
   "outputs": [
    {
     "data": {
      "text/plain": [
       "2"
      ]
     },
     "execution_count": 22,
     "metadata": {},
     "output_type": "execute_result"
    }
   ],
   "source": [
    "#Test Output\n",
    "Text = \"GCGCG\"\n",
    "Pattern = \"GCG\"\n",
    "PatternCount(Text, Pattern)"
   ]
  },
  {
   "cell_type": "markdown",
   "metadata": {},
   "source": [
    "This region does not contain a single occurrence of \"ATGATCAAG\" or \"CTTGATCAT\"! Thus, different bacteria may use different DnaA boxes as “hidden messages” to the DnaA protein.\n",
    "\n",
    "Application of the Frequent Words Problem to the ori region above reveals that the following six 9-mers appear in this region three or more times:\n",
    "\n",
    "\"AACCTACCA\"  \"AAACCTACC\"  \"ACCTACCAC\"\n",
    "\"CCTACCACC\"  \"GGTAGGTTT\"  \"TGGTAGGTT\"\n",
    "\n",
    "Something peculiar must be happening because it is extremely unlikely that six different 9-mers will occur so frequently within the same short region in a random string. We will cheat a little and consult with Ori-Finder, a software tool for finding replication origins in DNA sequences. This software chooses \"CCTACCACC\" (along with its reverse complement \"GGTGGTAGG\") as a working hypothesis for the DnaA box in Thermotoga petrophila. Together, these two complementary 9-mers appear five times in the replication origin:\n",
    "\n",
    "aactctatacctcctttttgtcgaatttgtgtgatttatagagaaaatcttattaactga aactaaaatggtaggtttGGTGGTAGGttttgtgtacattttgtagtatctgatttttaa ttacataccgtatattgtattaaattgacgaacaattgcatggaattgaatatatgcaaa acaaaCCTACCACCaaactctgtattgaccattttaggacaacttcagGGTGGTAGGttt ctgaagctctcatcaatagactattttagtctttacaaacaatattaccgttcagattca agattctacaacgctgttttaatgggcgttgcagaaaacttaccacctaaaatccagtat ccaagccgatttcagagaaacctaccacttacctaccacttaCCTACCACCcgggtggta agttgcagacattattaaaaacctcatcagaagcttgttcaaaaatttcaatactcgaaa CCTACCACCtgcgtcccctattatttactactactaataatagcagtataattgatctga"
   ]
  },
  {
   "cell_type": "markdown",
   "metadata": {},
   "source": [
    "Now imagine that you are trying to find ori in a newly sequenced bacterial genome. Searching for “clumps” of \"ATGATCAAG\"/\"CTTGATCAT\" or \"CCTACCACC\"/\"GGTGGTAGG\" is unlikely to help, since this new genome may use a completely different hidden message! Before we lose all hope, let’s change our computational focus: instead of finding clumps of a specific k-mer, let’s try to find every k-mer that forms a clump in the genome. Hopefully, the locations of these clumps will shed light on the location of ori.\n",
    "\n",
    "Our plan is to slide a window of fixed length L along the genome, looking for a region where a k-mer appears several times in short succession. The parameter value L = 500 reflects the typical length of ori in bacterial genomes.\n",
    "\n",
    "We think of a k-mer as a “clump” if it appears many times within a short interval of the genome. More formally, given integers L and t, a k-mer Pattern forms an (L, t)-clump inside a (longer) string Genome if there is an interval of Genome of length L in which this k-mer appears at least t times. (This definition assumes that the k-mer completely fits within the interval.) For example, \"TGCA\" forms a (25, 3)-clump in the following Genome:"
   ]
  },
  {
   "cell_type": "markdown",
   "metadata": {},
   "source": [
    "From our previous examples of ori regions, \"ATGATCAAG\" forms a (500, 3)-clump in the Vibrio cholerae genome, and \"CCTACCACC\" forms a (500, 3)-clump in the Thermotoga petrophila genome. We are now ready to formulate the following problem.\n",
    "\n",
    "Clump Finding Problem: ",
    " Find patterns forming clumps in a string. \n",
    "     Input: A string Genome, and integers k, L, and t. ",
    "\n",
    "     Output: All distinct k-mers forming (L, t)-clumps in Genome.\n",
    "\n",
    "Don’t worry about writing an algorithm to solve the Clump Finding Problem; we have done it for you. When we used this algorithm to look for clumps in the Escherichia coli (E. coli) genome, the workhorse of bacterial genomics, we found hundreds of different 9-mers forming (500, 3)-clumps in this genome. It is absolutely unclear which of these 9-mers might represent a DnaA box in the bacterium’s ori region.\n",
    "\n",
    "STOP and Think: Should we give up? If not, what would you do now?"
   ]
  },
  {
   "cell_type": "code",
   "execution_count": 23,
   "metadata": {},
   "outputs": [
    {
     "data": {
      "text/plain": [
       "0"
      ]
     },
     "execution_count": 23,
     "metadata": {},
     "output_type": "execute_result"
    }
   ],
   "source": [
    "#Quiz\n",
    "PatternCount(\"CGCG\", \"CGCGATACGTTACATACATGATAGACCGCGCGCGATCATATCGCGATTATC\")"
   ]
  },
  {
   "cell_type": "code",
   "execution_count": null,
   "metadata": {},
   "outputs": [],
   "source": []
  }
 ],
 "metadata": {
  "kernelspec": {
   "display_name": "Python 3",
   "language": "python",
   "name": "python3"
  },
  "language_info": {
   "codemirror_mode": {
    "name": "ipython",
    "version": 3
   },
   "file_extension": ".py",
   "mimetype": "text/x-python",
   "name": "python",
   "nbconvert_exporter": "python",
   "pygments_lexer": "ipython3",
   "version": "3.7.0"
  }
 },
 "nbformat": 4,
 "nbformat_minor": 2
}
