{
 "cells": [
  {
   "cell_type": "markdown",
   "metadata": {},
   "source": [
    "Recall that nucleotides A and T are complements of each other, as are C and G. Having one strand of DNA and a supply of “free floating” nucleotides as shown in the figure below, we can imagine the synthesis of a complementary strand on a template strand. This model of replication was confirmed by Meselson and Stahl in 1958 (see DETOUR: The Most Beautiful Experiment in Biology). The figure below shows a template strand \"AGTCGCATAGT\" and its complementary strand \"ACTATGCGACT\".\n",
    "\n",
    "At this point, you may think that we have made a mistake, since the complementary strand in the figure below reads out \"TCAGCGTATCA\" from left to right rather than \"ACTATGCGACT\". A and T are complements of each other, as are C and G. The beginning and end of a DNA strand are denoted 5’ (pronounced “five prime”) and 3’ (pronounced “three prime”), respectively. Each DNA strand is read in the 5' → 3' direction, and the complementary strand runs in the opposite direction to the template strand. See DETOUR: Directionality of DNA Strands to learn why biologists use 5’ and 3’ to refer to the beginning and end of a strand of DNA."
   ]
  },
  {
   "cell_type": "code",
   "execution_count": 1,
   "metadata": {},
   "outputs": [],
   "source": [
    "def ReverseComplement(Pattern):\n",
    "    Pattern = Reverse(Pattern) # reverse all letters in a string\n",
    "    Pattern = Complement(Pattern) # complement each letter in a string\n",
    "    return Pattern"
   ]
  },
  {
   "cell_type": "code",
   "execution_count": 2,
   "metadata": {},
   "outputs": [],
   "source": [
    "def Reverse(Pattern):\n",
    "    rev_pattern = \"\"\n",
    "    for _x in Pattern[::-1]:\n",
    "        rev_pattern += _x \n",
    "    return rev_pattern"
   ]
  },
  {
   "cell_type": "code",
   "execution_count": 3,
   "metadata": {},
   "outputs": [],
   "source": [
    "def Complement(Pattern):\n",
    "    comp_pattern = \"\"\n",
    "    for nuc in Pattern:\n",
    "        if nuc == 'A':\n",
    "            _nuc = 'T'\n",
    "        elif nuc == \"T\":\n",
    "            _nuc = 'A'\n",
    "        elif nuc ==\"C\":\n",
    "            _nuc = \"G\"\n",
    "        elif nuc ==\"G\":\n",
    "            _nuc=\"C\"\n",
    "        else:\n",
    "            _nuc = \"ERROR\"\n",
    "        comp_pattern+=_nuc\n",
    "    return comp_pattern"
   ]
  },
  {
   "cell_type": "code",
   "execution_count": 6,
   "metadata": {},
   "outputs": [],
   "source": [
    "Pattern = \"AAAACCCGGT\"\n",
    "assert (Reverse(Pattern)==\"TGGCCCAAAA\")\n"
   ]
  },
  {
   "cell_type": "code",
   "execution_count": 5,
   "metadata": {},
   "outputs": [],
   "source": [
    "Pattern = \"AAAACCCGGT\"\n",
    "assert (Complement(Pattern) == \"TTTTGGGCCA\")"
   ]
  },
  {
   "cell_type": "markdown",
   "metadata": {},
   "source": [
    "Interestingly, among the four most frequent 9-mers in the ori region of Vibrio cholerae, \"ATGATCAAG\" and \"CTTGATCAT\" are reverse complements of each other, resulting in the following six occurrences of these strings.\n",
    "\n",
    "atcaatgatcaacgtaagcttctaagc_ATGATCAAG_gtgctcacacagtttatccacaac ctgagtggatgacatcaagataggtcgttgtatctccttcctctcgtactctcatgacca cggaaag_ATGATCAAG_agaggatgatttcttggccatatcgcaatgaatacttgtgactt gtgcttccaattgacatcttcagcgccatattgcgctggccaaggtgacggagcgggatt acgaaagcatgatcatggctgttgttctgtttatcttgttttgactgagacttgttagga tagacggtttttcatcactgactagccaaagccttactctgcctgacatcgaccgtaaat tgataatgaatttacatgcttccgcgacgatttacct_CTTGATCAT_cgatccgattgaag atcttcaattgttaattctcttgcctcgactcatagccatgatgagct_CTTGATCAT_gtt tccttaaccctctattttttacggaagaATGATCAAGctgctgct_CTTGATCAT_cgtttc\n",
    "\n",
    "Finding a 9-mer that appears six or more times (either as itself or as its reverse complement) in a DNA string of length 500 is far more surprising than finding a 9-mer that appears three or more times alone. This statistical evidence leads us to the working hypothesis that \"ATGATCAAG\" and its reverse complement \"CTTGATCAT\" indeed represent DnaA boxes in Vibrio cholerae. Our computational conclusion makes sense biologically because the DnaA protein that binds to DnaA boxes and initiates replication does not care which of the two strands it binds to. For our purposes, both \"ATGATCAAG\" and \"CTTGATCAT\" represent DnaA boxes.\n",
    "\n",
    "\n",
    "\n"
   ]
  },
  {
   "cell_type": "code",
   "execution_count": 7,
   "metadata": {},
   "outputs": [
    {
     "data": {
      "text/plain": [
       "'GATCTGG'"
      ]
     },
     "execution_count": 7,
     "metadata": {},
     "output_type": "execute_result"
    }
   ],
   "source": [
    "#Quiz\n",
    "ReverseComplement(\"CCAGATC\")"
   ]
  },
  {
   "cell_type": "code",
   "execution_count": null,
   "metadata": {},
   "outputs": [],
   "source": []
  }
 ],
 "metadata": {
  "kernelspec": {
   "display_name": "Python 3",
   "language": "python",
   "name": "python3"
  },
  "language_info": {
   "codemirror_mode": {
    "name": "ipython",
    "version": 3
   },
   "file_extension": ".py",
   "mimetype": "text/x-python",
   "name": "python",
   "nbconvert_exporter": "python",
   "pygments_lexer": "ipython3",
   "version": "3.7.0"
  }
 },
 "nbformat": 4,
 "nbformat_minor": 2
}
