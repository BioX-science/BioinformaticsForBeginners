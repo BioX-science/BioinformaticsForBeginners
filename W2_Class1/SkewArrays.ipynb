{
 "cells": [
  {
   "cell_type": "markdown",
   "metadata": {},
   "source": [
    "In the table containing nucleotide counts for T. petrophila (reproduced below), we noted that not just C but also G has peculiar statistics on the forward and reverse half-strands.\n",
    "\n",
    "In practice, scientists use a more accurate approach that accounts for both G and C when searching for ori. As the above figure illustrates, the difference between the total amount of guanine and the total amount of cytosine is negative on the reverse half-strand and positive on the forward half-strand.\n",
    "\n",
    "\n",
    "\n",
    "\n"
   ]
  },
  {
   "cell_type": "markdown",
   "metadata": {},
   "source": [
    "Thus, our idea is to traverse the genome, keeping a running total of the difference between the counts of G and C. If this difference starts increasing, then we guess that we are on the forward half-strand; on the other hand, if this difference starts decreasing, then we guess that we are on the reverse half-strand (see figure below).\n",
    "\n",
    "Figure: Because of deamination, each forward half-strand has more guanine than cytosine, and each reverse half-strand has more cytosine than guanine. The difference between the counts of G and C is therefore positive on the forward half-strand and negative on the reverse half-strand.\n",
    "\n"
   ]
  },
  {
   "cell_type": "markdown",
   "metadata": {},
   "source": [
    "We will keep track of the difference between the total number of occurrences of G and the total number of occurrences of C that we have encountered so far in Genome by using a skew array. This array, denoted Skew, is defined by setting Skew[i] equal to the number of occurrences of G minus the number of occurrences of C in the first i nucleotides of Genome (see figure below). We also set Skew[0] equal to zero.\n",
    "\n",
    "Given a string Genome, we can form its skew array by setting Skew[0] equal to 0, and then ranging﻿ through the genome.  At position i of Genome, if we encounter an A or a T, we set Skew[i+1] equal to Skew[i]; if we encounter a G, we set Skew[i+1] equal to Skew[i]+1; if we encounter a C, we set Skew[i+1] equal to Skew[i]-1.\n",
    "\n",
    "Code Challenge (3 points): Write a function SkewArray(Genome) that takes a DNA string Genome as input and returns the skew array of Genome in the form of a list whose i-th element is Skew[i]. Then add this function to Replication.py.\n",
    "\n",
    "Click here for this problem's test datasets.\n"
   ]
  },
  {
   "cell_type": "code",
   "execution_count": 1,
   "metadata": {},
   "outputs": [],
   "source": [
    "input_str = \"CATGGGCATCGGCCATACGCC\""
   ]
  },
  {
   "cell_type": "code",
   "execution_count": 7,
   "metadata": {},
   "outputs": [],
   "source": [
    "# Input:  A String Genome\n",
    "# Output: The skew array of Genome as a list.\n",
    "def SkewArray(Genome):\n",
    "    # your code here\n",
    "    Skew = []\n",
    "    Skew.append(0)# Starts at 0\n",
    "    for i in range(len(Genome)):\n",
    "        if Genome[i] in [\"A\",\"T\"]:\n",
    "            Skew.append(Skew[i])# No skew is changed from previous entry\n",
    "        elif Genome[i] == 'G':\n",
    "            Skew.append(Skew[i]+1)\n",
    "        else:\n",
    "            Skew.append(Skew[i]-1)\n",
    "    return Skew\n",
    "\n",
    "def MinimumSkew(Genome):\n",
    "    positions = [] # output variable\n",
    "    Skew = SkewArray(Genome)\n",
    "    min_val = min(Skew) \n",
    "    for i in range(len(Skew)):\n",
    "        if Skew[i] == min_val:\n",
    "            positions.append(i)\n",
    "    return positions"
   ]
  },
  {
   "cell_type": "code",
   "execution_count": 3,
   "metadata": {},
   "outputs": [
    {
     "data": {
      "text/plain": [
       "[0, -1, -1, -1, 0, 1, 2, 1, 1, 1, 0, 1, 2, 1, 0, 0, 0, 0, -1, 0, -1, -2]"
      ]
     },
     "execution_count": 3,
     "metadata": {},
     "output_type": "execute_result"
    }
   ],
   "source": [
    "SkewArray(input_str)"
   ]
  },
  {
   "cell_type": "code",
   "execution_count": 4,
   "metadata": {},
   "outputs": [
    {
     "name": "stderr",
     "output_type": "stream",
     "text": [
      "UsageError: Line magic function `%matplotlib.inline` not found.\n"
     ]
    }
   ],
   "source": [
    "import matplotlib.pyplot as plt\n",
    "%matplotlib.inline()"
   ]
  },
  {
   "cell_type": "markdown",
   "metadata": {},
   "source": [
    "The skew diagram of Genome is defined by plotting i against Skew[i] as i ranges from 0 to len(Genome). The figure below shows the skew diagram for the genome from the previous step.\n",
    "\n"
   ]
  },
  {
   "cell_type": "markdown",
   "metadata": {},
   "source": [
    "The figure below depicts the skew diagram for a linearized E. coli genome. The pattern is even stronger than the pattern observed when we visualized the symbol array! It turns out that the skew diagram for many bacterial genomes has a similar characteristic shape.\n",
    "\n",
    "Figure: The skew diagram for E. coli achieves a maximum and minimum at positions 1550413 and 3923620, respectively."
   ]
  },
  {
   "cell_type": "markdown",
   "metadata": {},
   "source": [
    "Let’s follow the 5' → 3' direction of DNA and walk along the chromosome from ter to ori (along a reverse half-strand), then continue on from ori to ter (along a forward half-strand). In the figure below, we see that the skew is decreasing along the reverse half-strand and increasing along the forward half-strand. Thus, the skew should achieve a minimum at the position where the reverse half-strand ends and the forward half-strand begins, which is exactly the location of ori!\n",
    "\n",
    "\n"
   ]
  },
  {
   "cell_type": "code",
   "execution_count": null,
   "metadata": {},
   "outputs": [],
   "source": [
    "#Test 0 # Sample Dataset (your code is not run on this dataset)\n",
    "#Input:\n",
    "text=    \"TAAAGACTGCCGAGAGGCCAACACGAGTGCTAGAACGAGGGGCGTAAACGCGGGTCCGAT\"\n",
    "#Output:\n",
    "output=    [11, 24]\n",
    "assert(MinimumSkew(text)==output)\n",
    "#Test 1 # Check for index off-by-one errors (either indices are 1 too large or 1 too small)\n",
    "#Input:\n",
    "text=    \"ACCG\"\n",
    "#Output:\n",
    "output=    [3]\n",
    "assert(MinimumSkew(text)==output)\n",
    "##Test 2 # Check if you're missing the last value\n",
    "#Input:\n",
    "text=    \"ACCC\"\n",
    "#Output:\n",
    "output=    [4]\n",
    "assert(MinimumSkew(text)==output)\n",
    "#Test 3 # Check to make sure you're not finding maximum skew instead of minimum skew\n",
    "#Input:\n",
    "text=    \"CCGGGT\"\n",
    "#Output:\n",
    "output=    [2]\n",
    "assert(MinimumSkew(text)==output)\n",
    "#Test 4 # Check if you're not finding all of the indices\n",
    "#Input:\n",
    "text=    \"CCGGCCGG\"\n",
    "#Output:\n",
    "output=    [2, 6]\n",
    "assert(MinimumSkew(text)==output)\n",
    "#Test 5 # Full dataset\n",
    "#Input:\n",
    "text=    \"AGCGTGCCGAAATATGCCGCCAGACCTGCTGCGGTGGCCTCGCCGACTTCACGGATGCCAAGTGCATAGAGGAAGCGAGCAAAGGTGGTTTCTTTCGCTTTATCCAGCGCGTTAACCACGTTCTGTGCCGACTTT\"\n",
    "#Output:\n",
    "output=    [52]\n",
    "assert(MinimumSkew(text)==output)"
   ]
  },
  {
   "cell_type": "markdown",
   "metadata": {},
   "source": [
    "Solving the Minimum Skew Problem now provides us with an approximate location of ori at position 3923620 in E. coli. In an attempt to confirm this hypothesis, let’s look for a hidden message representing a potential DnaA box near this location. Solving the Frequent Words Problem in a window of length 500 starting at position 3923620 (shown below) reveals no 9-mers (along with their reverse complements) that appear three or more times! Even if we have located the position of ori in E. coli, it appears that we still have not found the DnaA boxes that jump-start replication in this bacterium . . . \n",
    "\n"
   ]
  },
  {
   "cell_type": "code",
   "execution_count": 8,
   "metadata": {},
   "outputs": [
    {
     "data": {
      "text/plain": [
       "[1, 2, 3, 4]"
      ]
     },
     "execution_count": 8,
     "metadata": {},
     "output_type": "execute_result"
    }
   ],
   "source": [
    "#Quiz\n",
    "#text=\"GATACACTTCCCGAGTAGGTACTG\"\n",
    "#MinimumSkew(text) #I switched the function to max for this."
   ]
  },
  {
   "cell_type": "code",
   "execution_count": 9,
   "metadata": {},
   "outputs": [
    {
     "name": "stdout",
     "output_type": "stream",
     "text": [
      "10\n"
     ]
    }
   ],
   "source": [
    "x=0\n",
    "for y in range(0,5):\n",
    "    x+=y\n",
    "print(x)"
   ]
  },
  {
   "cell_type": "code",
   "execution_count": null,
   "metadata": {},
   "outputs": [],
   "source": []
  }
 ],
 "metadata": {
  "kernelspec": {
   "display_name": "Python 3",
   "language": "python",
   "name": "python3"
  },
  "language_info": {
   "codemirror_mode": {
    "name": "ipython",
    "version": 3
   },
   "file_extension": ".py",
   "mimetype": "text/x-python",
   "name": "python",
   "nbconvert_exporter": "python",
   "pygments_lexer": "ipython3",
   "version": "3.7.0"
  }
 },
 "nbformat": 4,
 "nbformat_minor": 2
}
