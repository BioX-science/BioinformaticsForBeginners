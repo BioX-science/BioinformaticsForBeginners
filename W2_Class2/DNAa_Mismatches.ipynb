{
 "cells": [
  {
   "cell_type": "markdown",
   "metadata": {},
   "source": [
    "Our goal now is to modify our previous algorithm for the Frequent Words Problem in order to find DnaA boxes by identifying frequent k-mers, possibly with mismatches. Given input strings Text and Pattern as well as an integer d, we extend the definition of PatternCount to the function ApproximatePatternCount(Pattern, Text, d). This function computes the number of occurrences of Pattern in Text with at most d mismatches. For example,\n",
    "\n",
    "ApproximatePatternCount(AAAAA, AACAAGCATAAACATTAAAGAG, 1) = 4\n",
    "\n",
    "because AAAAA appears four times in this string with at most one mismatch: AACAA, ATAAA, AAACA, and AAAGA. Notice that two of these occurrences overlap.\n",
    "\n",
    "Code Challenge (3 points): Implement the ApproximatePatternCount function in Python. (Hint: you will only need to make a slight change to your existing code to write this function.)"
   ]
  },
  {
   "cell_type": "code",
   "execution_count": 3,
   "metadata": {},
   "outputs": [],
   "source": [
    "# Input:  Two strings p and q\n",
    "# Output: An integer value representing the Hamming Distance between p and q.\n",
    "def HammingDistance(p, q):\n",
    "    assert(len(p)==len(q))\n",
    "    hamming = 0\n",
    "    for ind in range(len(p)):\n",
    "        if p[ind] != q[ind]:\n",
    "            hamming+=1\n",
    "    return hamming\n",
    "\n",
    "# Input:  Strings Pattern and Text, and an integer d\n",
    "# Output: The number of times Pattern appears in Text with at most d mismatches\n",
    "def ApproximatePatternCount(Pattern, Text, d):\n",
    "    count = 0 # initialize count variable\n",
    "\n",
    "    positions = [] # initializing list of positions\n",
    "    n_pattern = len(Pattern)\n",
    "    for ind in range(len(Text)-n_pattern+1):\n",
    "        dist = HammingDistance(Pattern,Text[ind:ind+n_pattern])\n",
    "        if dist <= d:\n",
    "            count+=1\n",
    "    return count"
   ]
  },
  {
   "cell_type": "code",
   "execution_count": 4,
   "metadata": {},
   "outputs": [],
   "source": [
    "#Test 0 # Sample Dataset (your code is not run on this dataset)\n",
    "#Input:\n",
    "Pattern=    \"GAGG\"\n",
    "Text=    \"TTTAGAGCCTTCAGAGG\"\n",
    "d=    2\n",
    "#Output:\n",
    "out=     4\n",
    "assert(ApproximatePatternCount(Pattern, Text, d) == out)\n",
    "#Test 1 # Check that the output is > 0 and that you handle overlapping kmers\n",
    "#Input:\n",
    "Pattern=     \"AA\"\n",
    "Text=     \"AAA\"\n",
    "d=     0\n",
    "#Output:\n",
    "out=      2\n",
    "assert(ApproximatePatternCount(Pattern, Text, d) == out)\n",
    "#Test 2 # Check that you find kmers with < d mismatches as well as with exactly d mismatches\n",
    "#Input:\n",
    "Pattern=     \"ATA\"\n",
    "Text=     \"ATA\"\n",
    "d=     1\n",
    "#Output:\n",
    "out=      1\n",
    "assert(ApproximatePatternCount(Pattern, Text, d) == out)\n",
    "#Test 3 # Full dataset\n",
    "#Input:\n",
    "Pattern=     \"GTGCCG\"\n",
    "Text=     \"AGCGTGCCGAAATATGCCGCCAGACCTGCTGCGGTGGCCTCGCCGACTTCACGGATGCCAAGTGCATAGAGGAAGCGAGCAAAGGTGGTTTCTTTCGCTTTATCCAGCGCGTTAACCACGTTCTGTGCCGACTTT\"\n",
    "d=     3\n",
    "#Output:\n",
    "out=      24\n",
    "assert(ApproximatePatternCount(Pattern, Text, d) == out)"
   ]
  },
  {
   "cell_type": "markdown",
   "metadata": {},
   "source": [
    "We now make a final attempt to find DnaA boxes in the region of the E. coli genome hypothesized by the minimum skew as ori. Although the minimum of the skew diagram for E. coli is found at position 3923620, we should not assume that its ori is found exactly at this position due to random fluctuations in the skew. To remedy this issue, we could choose a larger window size (e.g., 1000), but expanding the window introduces the risk that we may bring in other clumped 9-mers that do not represent DnaA boxes but appear in this window more often than the true DnaA box. It makes more sense to try a small window either starting, ending, or centered at the position of minimum skew.\n",
    "\n",
    "Let’s cross our fingers and identify the most frequent 9-mers (with 1 mismatch) within a window of length 500 starting at position 3923620 of the E. coli genome. Bingo! The experimentally confirmed DnaA box in E. coli (TTATCCACA) is indeed a most frequent 9-mer, along with its reverse complement TGTGGATAA (with 1 mismatch):\n",
    "\n",
    "aatgatgatgacgtcaaaaggatccggataaaacatggtgattgcctcgcataacgcggt atgaaaatggattgaagcccgggccgtggattctactcaactttgtcggcttgagaaaga cctgggatcctgggtattaaaaagaagatctatttatttagagatctgttctattgtgat ctcttattaggatcgcactgcccTGTGGATAAcaaggatccggcttttaagatcaacaac ctggaaaggatcattaactgtgaatgatcggtgatcctggaccgtataagctgggatcag aatgaggggTTATACACAactcaaaaactgaacaacagttgttcTTTGGATAActaccgg ttgatccaagcttcctgacagagTTATCCACAgtagatcgcacgatctgtatacttattt gagtaaattaacccacgatcccagccattcttctgccggatcttccggaatgtcgtgatc\n",
    "aagaatgttgatcttcagtg                                        \n",
    "\n",
    "You will notice that we highlighted an interior interval of this sequence with darker text. This region is the experimentally verified ori of E. coli, which starts 37 nucleotides after position 3923620, where the skew reaches its minimum value."
   ]
  },
  {
   "cell_type": "markdown",
   "metadata": {},
   "source": [
    "We were very fortunate that the DnaA boxes of E. coli are captured in the window that we chose. Moreover, while TTATCCACA represents a most frequent 9-mer in this 500-nucleotide window, it is not the only one: GGATCCTGG, GATCCCAGC, GTTATCCAC, AGCTGGGAT, and CTGGGATCA (along with their reverse complements) also appear four times with 1 mismatch."
   ]
  },
  {
   "cell_type": "code",
   "execution_count": null,
   "metadata": {},
   "outputs": [],
   "source": []
  }
 ],
 "metadata": {
  "kernelspec": {
   "display_name": "Python 3",
   "language": "python",
   "name": "python3"
  },
  "language_info": {
   "codemirror_mode": {
    "name": "ipython",
    "version": 3
   },
   "file_extension": ".py",
   "mimetype": "text/x-python",
   "name": "python",
   "nbconvert_exporter": "python",
   "pygments_lexer": "ipython3",
   "version": "3.7.0"
  }
 },
 "nbformat": 4,
 "nbformat_minor": 2
}
