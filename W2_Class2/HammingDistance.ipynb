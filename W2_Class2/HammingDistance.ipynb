{
 "cells": [
  {
   "cell_type": "markdown",
   "metadata": {},
   "source": [
    "Before we give up, let’s examine the ori of Vibrio cholerae one more time to see if it provides us with any insights on how to alter our algorithm to find DnaA boxes in E. coli. You may have noticed that in addition to the three occurrences of ATGATCAAG and three occurrences of its reverse complement CTTGATCAT, the Vibrio cholerae ori contains additional occurrences of ATGATCAAC and CATGATCAT, which differ from ATGATCAAG and CTTGATCAT in only a single nucleotide:\n",
    "\n",
    "atcaATGATCAACgtaagcttctaagcATGATCAAGgtgctcacacagtttatccacaac ctgagtggatgacatcaagataggtcgttgtatctccttcctctcgtactctcatgacca cggaaagATGATCAAGagaggatgatttcttggccatatcgcaatgaatacttgtgactt gtgcttccaattgacatcttcagcgccatattgcgctggccaaggtgacggagcgggatt acgaaagCATGATCATggctgttgttctgtttatcttgttttgactgagacttgttagga tagacggtttttcatcactgactagccaaagccttactctgcctgacatcgaccgtaaat tgataatgaatttacatgcttccgcgacgatttacctCTTGATCATcgatccgattgaag atcttcaattgttaattctcttgcctcgactcatagccatgatgagctCTTGATCATgtt tccttaaccctctattttttacggaagaATGATCAAGctgctgctCTTGATCATcgtttc\n",
    "\n",
    "Finding eight approximate occurrences of our target 9-mer and its reverse complement in a short region is even more statistically surprising than finding the six exact occurrences of ATGATCAAG and its reverse complement CTTGATCAT that we stumbled upon in the beginning of our investigation. Furthermore, the discovery of these approximate 9-mers makes sense biologically, since DnaA can bind not only to “perfect” DnaA boxes but to their slight modifications as well.\n",
    "\n"
   ]
  },
  {
   "cell_type": "markdown",
   "metadata": {},
   "source": [
    "We say that position i in k-mers p and q is a mismatch if the symbols at position i of the two strings are not the same. The total number of mismatches between strings p and q is called the Hamming distance between these strings. We will let you implement a function to compute this distance, called HammingDistance(p, q).\n",
    "\n"
   ]
  },
  {
   "cell_type": "code",
   "execution_count": 1,
   "metadata": {},
   "outputs": [],
   "source": [
    "# Input:  Two strings p and q\n",
    "# Output: An integer value representing the Hamming Distance between p and q.\n",
    "def HammingDistance(p, q):\n",
    "    assert(len(p)==len(q))\n",
    "    hamming = 0\n",
    "    for ind in range(len(p)):\n",
    "        if p[ind] != q[ind]:\n",
    "            hamming+=1\n",
    "    return hamming"
   ]
  },
  {
   "cell_type": "code",
   "execution_count": 2,
   "metadata": {},
   "outputs": [],
   "source": [
    "#Test 0 # Sample Dataset (your code is not run on this dataset)\n",
    "#Input:\n",
    "t1=    \"GGGCCGTTGGT\"\n",
    "t2=    \"GGACCGTTGAC\"\n",
    "#Output:\n",
    "out=    3\n",
    "assert(HammingDistance(t1,t2)==out)\n",
    "#Test 1 # Make sure you return a positive number\n",
    "#Input:\n",
    "t1=     \"AAAA\"\n",
    "t2=     \"TTTT\"\n",
    "#Output:\n",
    "out=    4\n",
    "assert(HammingDistance(t1,t2)==out)\n",
    "#Test 2 # Check if you're accidentally returning Edit Distance instead of Hamming Distance\n",
    "#Input:\n",
    "t1=     \"ACGTACGT\"\n",
    "t2=     \"TACGTACG\"\n",
    "#Output:\n",
    "out=    8\n",
    "assert(HammingDistance(t1,t2)==out)\n",
    "#Test 3 # Check if you're accidentally counting the number of matches instead of the number of mismatches\n",
    "#Input:\n",
    "t1=     \"ACGTACGT\"\n",
    "t2=     \"CCCCCCCC\"\n",
    "#Output:\n",
    "out=    6\n",
    "assert(HammingDistance(t1,t2)==out)\n",
    "#Test 4 # Example where the two strings have no matches\n",
    "#Input:\n",
    "t1=     \"ACGTACGT\"\n",
    "t2=     \"TGCATGCA\"\n",
    "#Output:\n",
    "out=    8\n",
    "assert(HammingDistance(t1,t2)==out)\n",
    "#Test 5 # Check if you're missing the first index of the strings\n",
    "#Input:\n",
    "t1=     \"GATAGCAGCTTCTGAACTGGTTACCTGCCGTGAGTAAATTAAAATTTTATTGACTTAGGTCACTAAATACT\"\n",
    "t2=     \"AATAGCAGCTTCTCAACTGGTTACCTCGTATGAGTAAATTAGGTCATTATTGACTCAGGTCACTAACGTCT\"\n",
    "#Output:\n",
    "out=    15\n",
    "assert(HammingDistance(t1,t2)==out)\n",
    "#Test 6 # Check if you're missing the last index of the strings\n",
    "#Input:\n",
    "t1=     \"AGAAACAGACCGCTATGTTCAACGATTTGTTTTATCTCGTCACCGGGATATTGCGGCCACTCATCGGTCAGTTGATTACGCAGGGCGTAAATCGCCAGAATCAGGCTG\"\n",
    "t2=     \"AGAAACCCACCGCTAAAAACAACGATTTGCGTAGTCAGGTCACCGGGATATTGCGGCCACTAAGGCCTTGGATGATTACGCAGAACGTATTGACCCAGAATCAGGCTC\"\n",
    "#Output:\n",
    "out=    28\n",
    "assert(HammingDistance(t1,t2)==out)\n",
    "#Test 7 # Full dataset\n",
    "#Input:\n",
    "t1=     \"AGCGTGCCGAAATATGCCGCCAGACCTGCTGCGGTGGCCTCGCCGACTTCACGGATGCCAAGTGCATAGAGGAAGCGAGCAAAGGTGGTTTCTTTCGCTTTATCCAGCGCGTTAACCACGTTCTGTGCCGACTTT\"\n",
    "t2=     \"AGAAACAGACCGCTATGTTCAACGATTTGTTTTATCTCGTCACCGGGATATTGCGGCCACTCATCGGTCAGTTGATTACGCAGGGCGTAAATCGCCAGAATCAGGCTGAAACCCTACGGACAGGTTTACGAACCT\"\n",
    "#Output:\n",
    "out=    103\n",
    "assert(HammingDistance(t1,t2)==out)"
   ]
  },
  {
   "cell_type": "code",
   "execution_count": 3,
   "metadata": {},
   "outputs": [
    {
     "data": {
      "text/plain": [
       "43"
      ]
     },
     "execution_count": 3,
     "metadata": {},
     "output_type": "execute_result"
    }
   ],
   "source": [
    "#Quiz\n",
    "t1 = \"CTTGAAGTGGACCTCTAGTTCCTCTACAAAGAACAGGTTGACCTGTCGCGAAG\"\n",
    "t2 = \"ATGCCTTACCTAGATGCAATGACGGACGTATTCCTTTTGCCTCAACGGCTCCT\"\n",
    "HammingDistance(t1,t2)"
   ]
  },
  {
   "cell_type": "code",
   "execution_count": 5,
   "metadata": {},
   "outputs": [
    {
     "data": {
      "text/plain": [
       "[0, 1, 12, 3, 4]"
      ]
     },
     "execution_count": 5,
     "metadata": {},
     "output_type": "execute_result"
    }
   ],
   "source": [
    "a=list(range(5))\n",
    "b=a\n",
    "a[2]=12\n",
    "b"
   ]
  },
  {
   "cell_type": "code",
   "execution_count": null,
   "metadata": {},
   "outputs": [],
   "source": []
  }
 ],
 "metadata": {
  "kernelspec": {
   "display_name": "Python 3",
   "language": "python",
   "name": "python3"
  },
  "language_info": {
   "codemirror_mode": {
    "name": "ipython",
    "version": 3
   },
   "file_extension": ".py",
   "mimetype": "text/x-python",
   "name": "python",
   "nbconvert_exporter": "python",
   "pygments_lexer": "ipython3",
   "version": "3.7.0"
  }
 },
 "nbformat": 4,
 "nbformat_minor": 2
}
