{
 "cells": [
  {
   "cell_type": "markdown",
   "metadata": {},
   "source": [
    "The daily schedules of animals, plants, and even bacteria are controlled by an internal timekeeper called the circadian clock. Anyone who has experienced the misery of jet lag knows that this clock never stops ticking. Rats and research volunteers alike, when placed in a bunker, naturally maintain a roughly 24-hour cycle of activity and rest in total darkness. And, like any timepiece, the circadian clock can malfunction, resulting in a genetic disease known as delayed sleep-phase syndrome (DSPS).\n",
    "\n",
    "The circadian clock must have some basis on the molecular level, which presents many questions. How do individual cells in animals and plants (let alone bacteria) know what time it is? Is there a “clock gene”? Can we explain why heart attacks occur more often in the morning, while asthma attacks are more common at night? And can we identify genes that are responsible for “breaking” the circadian clock to cause DSPS?\n",
    "\n",
    "In the early 1970s, Ron Konopka and Seymour Benzer identified mutant flies with abnormal circadian patterns and traced the flies’ mutations to a single gene. Biologists needed two more decades to discover a similar clock gene in mammals, which was just the first piece of the puzzle. Today, many more circadian genes have been discovered; these genes, having names like timeless, clock, and cycle, orchestrate the behavior of hundreds of other genes and display a high degree of evolutionary conservation across species.\n",
    "\n",
    "We will first focus on plants, since maintaining the circadian clock in plants is a matter of life and death. Consider how many plant functions depend on when the sun rises and sets. Indeed, biologists estimate that over a thousand plant genes are circadian, including the genes related to photosynthesis, photo reception, and flowering. But what does it mean for a gene be circadian?"
   ]
  },
  {
   "cell_type": "markdown",
   "metadata": {},
   "source": [
    "The Central Dogma of Molecular Biology states that “DNA makes RNA makes protein.” The DNA corresponding to a gene is first transcribed into a strand of RNA composed of four ribonucleotides: adenine, cytosine, guanine, and uracil (which replaces thymine in DNA). Then, the RNA transcript is translated into the amino acid sequence of a protein, which performs some function in the cell.\n",
    "\n",
    "Much like DNA replication, the chemical machinery underlying transcription and translation is fascinating, but from a computational perspective, both processes are straightforward. Transcription simply replaces all occurrences of T in a DNA string with U. The resulting strand of RNA is translated into an amino acid sequence as follows. During translation, the RNA strand is partitioned into non-overlapping 3-mers called codons. Then, each codon is converted into one of 20 amino acids via the genetic code; the resulting sequence can be represented as an amino acid string over a 20-letter alphabet. As illustrated in the figure below, each of the 64 RNA codons encodes its own amino acid (some codons encode the same amino acid), with the exception of three stop codons that do not translate into amino acids and serve to halt translation (see DETOUR: Discovery of Codons and Split Genes). For example, the DNA string \"TATACGAAA\" transcribes into the RNA string \"UAUACGAAA\", which in turn translates into the amino acid string \"YTK\". \n",
    "\n",
    "The key point is that cells are able to transcribe different genes into RNA at different rates. This variance in the production of a gene’s transcripts, or gene expression, explains how a brain cell and a skin cell can have the same DNA but perform vastly different functions. Variation in gene expression through the day also accounts for how the cell can keep track of time."
   ]
  },
  {
   "cell_type": "markdown",
   "metadata": {},
   "source": [
    "It turns out that every plant cell keeps track of day and night independently of other cells, and that just three plant genes, called LHY, CCA1, and TOC1, are the clock’s master timekeepers. Such genes, and the regulatory proteins that they encode, are often controlled by external factors (e.g., nutrient availability or sunlight) in order to allow organisms to adjust their gene expression.\n",
    "\n",
    "For example, regulatory proteins controlling the circadian clock in plants coordinate circadian activity as follows. TOC1 promotes the expression of LHY and CCA1, whereas LHY and CCA1 repress the expression of TOC1, resulting in a negative feedback loop. In the morning, sunlight activates the transcription of LHY and CCA1, triggering the repression of TOC1 transcription. As light diminishes, so does the production of LHY and CCA1, which in turn do not repress TOC1 any more. Transcription of TOC1 peaks at night and starts promoting the transcription of LHY and CCA1, which in turn repress the transcription of TOC1, and the cycle begins again."
   ]
  },
  {
   "cell_type": "markdown",
   "metadata": {},
   "source": [
    "LHY, CCA1, and TOC1 are able to control the transcription of other genes because the regulatory proteins that they encode are transcription factors, or master regulatory proteins that turn other genes on and off. A transcription factor regulates a gene by binding to a specific short DNA interval called a regulatory motif, or transcription factor binding site, in the gene’s upstream region, a 600-1000 nucleotide-long region preceding the start of the gene. For example, CCA1 binds to \"AAAAAATCT\" in the upstream region of many genes regulated by CCA1.\n",
    "\n",
    "The life of a bioinformatician would be easy if regulatory motifs were completely conserved, but the reality is more complex, as regulatory motifs may vary at some positions, e.g., CCA1 may instead bind to \"AAGAACTCT\". But how can we locate these regulatory motifs without knowing what they look like in advance? We need to develop algorithms for motif finding, the problem of discovering a “hidden message” shared by a collection of strings."
   ]
  },
  {
   "cell_type": "markdown",
   "metadata": {},
   "source": [
    "In 2000, Steve Kay used DNA arrays (see DETOUR: DNA Arrays) to determine which genes in the plant Arabidopsis thaliana are activated at different times of the day. He then extracted the upstream regions of nearly 500 genes that exhibited circadian behavior and looked for frequently appearing patterns in their upstream regions. If you concatenated these upstream regions into a single string, you would find that \"AAAATATCT\" is a surprisingly frequent word, appearing 46 times.\n",
    "\n",
    "Kay named \"AAAATATCT\" the evening element and performed a simple experiment to prove that it is indeed the regulatory motif responsible for circadian gene expression in Arabidopsis thaliana. After he mutated the evening element in the upstream region of one gene, the gene lost its circadian behavior. \n",
    "\n",
    "STOP and Think: What is the possible downside of concatenating all the upstream regions into a single string and looking for frequent words in order to find a motif?"
   ]
  },
  {
   "cell_type": "markdown",
   "metadata": {},
   "source": [
    "Whereas the evening element in plants is very conserved, and thus easy to find, motifs having many mutations are more elusive. For example, if you infect a fly with a bacterium, the fly will switch on its immunity genes to fight the infection. Thus, some of the genes with elevated expression levels after the infection are likely to be immunity genes. Indeed, some of these genes have 12-mers similar to \"TCGGGGATTTCC\" in their upstream regions, the binding site of a transcription factor called NF-kB that activates various immunity genes in flies. However, NF-κB binding sites are nowhere near as conserved as the evening element. The figure below shows ten NF-κB binding sites from the Drosophila melanogaster genome; the most popular nucleotides in every column are shown by upper case colored letters.\n",
    "```\n",
    " 1  T C G G G G g T T T t t\n",
    " 2  c C G G t G A c T T a C\n",
    " 3  a C G G G G A T T T t C\n",
    " 4  T t G G G G A c T T t t\n",
    " 5  a a G G G G A c T T C C\n",
    " 6  T t G G G G A c T T C C\n",
    " 7  T C G G G G A T T c a t\n",
    " 8  T C G G G G A T T c C t\n",
    " 9  T a G G G G A a c T a C\n",
    "10  T C G G G t A T a a C C\n",
    "```\n",
    "Figure: The ten candidate NF-κB binding sites appearing in the Drosophila melanogaster genome. The colored upper case letters indicate the most frequent nucleotide in each column."
   ]
  },
  {
   "cell_type": "markdown",
   "metadata": {},
   "source": [
    "Our aim is to turn the biological challenge of finding regulatory motifs into a computational problem. Below, we have implanted a 15-mer hidden message at a randomly selected position in each of ten randomly generated DNA strings. This example mimics a transcription factor binding site hiding in the upstream regions of ten genes.\n",
    "```\n",
    " 1 \"atgaccgggatactgataaaaaaaagggggggggcgtacacattagataaacgtatgaagtacgttagactcggcgccgccg\"\n",
    " 2 \"acccctattttttgagcagatttagtgacctggaaaaaaaatttgagtacaaaacttttccgaataaaaaaaaaggggggga\"\n",
    " 3 \"tgagtatccctgggatgacttaaaaaaaagggggggtgctctcccgatttttgaatatgtaggatcattcgccagggtccga\"\n",
    " 4 \"gctgagaattggatgaaaaaaaagggggggtccacgcaatcgcgaaccaacgcggacccaaaggcaagaccgataaaggaga\"\n",
    " 5 \"tcccttttgcggtaatgtgccgggaggctggttacgtagggaagccctaacggacttaataaaaaaaagggggggcttatag\"\n",
    " 6 \"gtcaatcatgttcttgtgaatggatttaaaaaaaaggggggggaccgcttggcgcacccaaattcagtgtgggcgagcgcaa\"\n",
    " 7 \"cggttttggcccttgttagaggcccccgtaaaaaaaagggggggcaattatgagagagctaatctatcgcgtgcgtgttcat\"\n",
    " 8 \"aacttgagttaaaaaaaagggggggctggggcacatacaagaggagtcttccttatcagttaatgctgtatgacactatgta\"\n",
    "  9 \"ttggcccattggctaaaagcccaacttgacaaatggaagatagaatccttgcataaaaaaaagggggggaccgaaagggaag\" \n",
    "10 \"ctggtgagcaacgacagattcttacgtgcattagctcgcttccggggatctaatagcacgaagcttaaaaaaaaggggggga\" \n",
    "```"
   ]
  },
  {
   "cell_type": "markdown",
   "metadata": {},
   "source": [
    "This is a simple problem: applying the FrequentWords algorithm that we developed in the previous chapter to the concatenation of these strings will immediately reveal the most frequent 15-mer shown below as the implanted pattern. Since these short strings were randomly generated, it is unlikely that they contain other frequent 15-mers.\n",
    "```\n",
    " 1 \"atgaccgggatactgatAAAAAAAAGGGGGGGggcgtacacattagataaacgtatgaagtacgttagactcggcgccgccg\"\n",
    " 2 \"acccctattttttgagcagatttagtgacctggaaaaaaaatttgagtacaaaacttttccgaataAAAAAAAAGGGGGGGa\"\n",
    " 3 \"tgagtatccctgggatgacttAAAAAAAAGGGGGGGtgctctcccgatttttgaatatgtaggatcattcgccagggtccga\"\n",
    " 4 \"gctgagaattggatgAAAAAAAAGGGGGGGtccacgcaatcgcgaaccaacgcggacccaaaggcaagaccgataaaggaga\"\n",
    " 5 \"tcccttttgcggtaatgtgccgggaggctggttacgtagggaagccctaacggacttaatAAAAAAAAGGGGGGGcttatag\"\n",
    " 6 \"gtcaatcatgttcttgtgaatggatttAAAAAAAAGGGGGGGgaccgcttggcgcacccaaattcagtgtgggcgagcgcaa\"\n",
    " 7 \"cggttttggcccttgttagaggcccccgtAAAAAAAAGGGGGGGcaattatgagagagctaatctatcgcgtgcgtgttcat\"\n",
    " 8 \"aacttgagttAAAAAAAAGGGGGGGctggggcacatacaagaggagtcttccttatcagttaatgctgtatgacactatgta\"\n",
    "  9 \"ttggcccattggctaaaagcccaacttgacaaatggaagatagaatccttgcatAAAAAAAAGGGGGGGaccgaaagggaag\" \n",
    "10 \"ctggtgagcaacgacagattcttacgtgcattagctcgcttccggggatctaatagcacgaagcttAAAAAAAAGGGGGGGa\" \n",
    "```"
   ]
  },
  {
   "cell_type": "markdown",
   "metadata": {},
   "source": [
    "Now imagine that instead of implanting exactly the same pattern into all strings, we mutate the pattern before inserting it into each string by randomly changing the nucleotides at four randomly selected positions within each implanted 15-mer, as shown below.\n",
    "```\n",
    " 1 \"atgaccgggatactgatAgAAgAAAGGttGGGggcgtacacattagataaacgtatgaagtacgttagactcggcgccgccg\"\n",
    " 2 \"acccctattttttgagcagatttagtgacctggaaaaaaaatttgagtacaaaacttttccgaatacAAtAAAAcGGcGGGa\"\n",
    " 3 \"tgagtatccctgggatgacttAAAAtAAtGGaGtGGtgctctcccgatttttgaatatgtaggatcattcgccagggtccga\"\n",
    " 4 \"gctgagaattggatgcAAAAAAAGGGattGtccacgcaatcgcgaaccaacgcggacccaaaggcaagaccgataaaggaga\"\n",
    " 5 \"tcccttttgcggtaatgtgccgggaggctggttacgtagggaagccctaacggacttaatAtAAtAAAGGaaGGGcttatag\"\n",
    " 6 \"gtcaatcatgttcttgtgaatggatttAAcAAtAAGGGctGGgaccgcttggcgcacccaaattcagtgtgggcgagcgcaa\"\n",
    " 7 \"cggttttggcccttgttagaggcccccgtAtAAAcAAGGaGGGccaattatgagagagctaatctatcgcgtgcgtgttcat\"\n",
    " 8 \"aacttgagttAAAAAAtAGGGaGccctggggcacatacaagaggagtcttccttatcagttaatgctgtatgacactatgta\"\n",
    "  9 \"ttggcccattggctaaaagcccaacttgacaaatggaagatagaatccttgcatActAAAAAGGaGcGGaccgaaagggaag\" \n",
    "10 \"ctggtgagcaacgacagattcttacgtgcattagctcgcttccggggatctaatagcacgaagcttActAAAAAGGaGcGGa\" \n",
    "```\n",
    "FrequentWords is no longer going to help us, since AAAAAAAAGGGGGGG does not even appear in the strings above. We could adapt the Frequent Words Problem into a “Frequent Words with Mismatches Problem”. However, concatenating all the strings into a single string is inadequate because it does not correctly model the biological problem of motif finding. A DnaA box is a pattern that clumps, or appears frequently, within a DNA string. In contrast, a regulatory motif is a pattern that appears at least once in each one of several different regions that are scattered throughout the genome. "
   ]
  },
  {
   "cell_type": "markdown",
   "metadata": {},
   "source": [
    "Furthermore, when Steve Kay used a DNA array to infer the set of circadian genes in plants, he did not expect that all genes in the resulting set would have the evening element (or its variants) in their upstream regions. Similarly, biologists do not expect that all genes with an elevated expression level in infected flies must be regulated by NF-κB. DNA array experiments are inherently noisy, and some genes identified by these experiments have nothing to do with the circadian clock in plants or immunity genes in flies.\n",
    "\n"
   ]
  },
  {
   "cell_type": "markdown",
   "metadata": {},
   "source": [
    "A computational problem formulation for motif finding would score individual instances of motifs depending on how similar they are to an “ideal” motif (i.e., a transcription factor binding site that binds the best to the transcription factor). However, since the ideal motif is unknown, we attempt to select a k-mer from each string and score these k-mers depending on how similar they are to each other.\n",
    "\n",
    "To define scoring, consider a list of t DNA strings Dna, where each string has length n, and select a k-mer from each string to form a collection Motifs, which we represent as a t x k motif matrix. In the figure below, which shows the motif matrix for the NF-κB binding sites from the figure below, we indicate the most frequent nucleotide in each column of the motif matrix by upper case letters. If there are multiple most frequent nucleotides in a column, then we arbitrarily select one of them to break the tie. Note that positions 2 and 3 are the most conserved (nucleotide G is completely conserved in these positions), whereas position 10 is the least conserved.\n",
    "\n",
    "\n",
    "Figure: The NF-κB binding sites form a 10 x 12 motif matrix, with the most frequent nucleotide in each column shown in upper case letters and all other nucleotides shown in lower case letters."
   ]
  },
  {
   "cell_type": "markdown",
   "metadata": {},
   "source": [
    "By varying the choice of k-mers in each string, we can construct a large number of different motif matrices from a given sample of DNA strings. Our goal is to select k-mers resulting in the most “conserved” motif matrix, meaning the matrix with the most upper case letters (and thus the fewest number of lower case letters). Leaving aside the question of how we select such k-mers, we will first focus on how to score the resulting motif matrices, defining Score(Motifs) as the number of unpopular (lower case) letters in the motif matrix Motifs (see updated figure below). Our goal is to find a collection of k-mers that minimizes this score (for more on motif scoring functions, see DETOUR: Motif Scoring Functions)."
   ]
  },
  {
   "cell_type": "markdown",
   "metadata": {},
   "source": [
    "For a given choice of Motifs, we can construct a 4 x k count matrix, denoted Count(Motifs), counting the number of occurrences of each nucleotide in each column of the motif matrix; element (i,j) of Count(Motifs) stores the number of times that nucleotide i appears in column j of Motifs. (See updated figure below).\n",
    "\n",
    "\n"
   ]
  },
  {
   "cell_type": "markdown",
   "metadata": {},
   "source": [
    "To generate a count matrix from an arbitrary list of strings Motifs, we need to first initialize the count matrix, represented as a dictionary:\n",
    "\n",
    "    `count = {}`\n",
    "We then range over all nucleotides symbol and create a list of zeroes corresponding to count[symbol].\n",
    "```\n",
    "    k = len(Motifs[0])\n",
    "    for symbol in \"ACGT\":\n",
    "        count[symbol] = []\n",
    "        for j in range(k):\n",
    "             count[symbol].append(0)\n",
    "```\n",
    "Note that the first line above sets k equal to the length of Motifs[0], the first string in Motifs, which is the length of every string in Motifs. Also, note the difference between the line count = {} (which forms an empty dictionary) and the line count[symbol] = [] (which forms an empty list). Finally, we need to range over all elements symbol = Motifs[i][j] of the count matrix and add 1 to count[symbol][j].\n",
    "\n",
    "```\n",
    "    t = len(Motifs)\n",
    "    for i in range(t):\n",
    "        for j in range(k):\n",
    "            symbol = Motifs[i][j]\n",
    "            count[symbol][j] += 1\n",
    "```\n",
    "Code Challenge (1 point): Write a function Count(Motifs) that takes a list of strings Motifs as input and returns the count matrix of  Motifs (as a dictionary of lists). Then place this function into a new Python file for this chapter called \"Motifs.py\"."
   ]
  },
  {
   "cell_type": "code",
   "execution_count": 20,
   "metadata": {},
   "outputs": [],
   "source": [
    "# Input:  A set of kmers Motifs\n",
    "# Output: Count(Motifs)\n",
    "def Count(Motifs):\n",
    "    count = {} # initializing the count dictionary\n",
    "    #Initialize each nucleotide with an empty list, \n",
    "    for nucleotide in [\"A\",\"C\",\"G\",\"T\"]:\n",
    "        count[nucleotide] = []     \n",
    "    for ind in range(len(Motifs[0])):\n",
    "        for nucleotide in [\"A\",\"C\",\"G\",\"T\"]:\n",
    "            count[nucleotide].append(0) #everything must have a 0 initially  \n",
    "        for motif in range(len(Motifs)): #For each Motif, loop through chars\n",
    "            count[Motifs[motif][ind]][ind] += 1 # FOr each nuc, increment its count for that Motif\n",
    "    return count"
   ]
  },
  {
   "cell_type": "code",
   "execution_count": 23,
   "metadata": {},
   "outputs": [],
   "source": [
    "\"\"\"Test 0 # Sample Dataset (your code is not run on this dataset)\n",
    "Input:\"\"\"\n",
    "motifs1=    [\"AACGTA\",\n",
    "    \"CCCGTT\",\n",
    "    \"CACCTT\",\n",
    "    \"GGATTA\",\n",
    "    \"TTCCGG\"]\n",
    "#Output: Basically, each list contains the number of Nucleotides in the nth position of all motifs in that list.\n",
    "out1= {'A': [1, 2, 1, 0, 0, 2], 'C': [2, 1, 4, 2, 0, 0], 'G': [1, 1, 0, 2, 1, 1], 'T': [1, 1, 0, 1, 4, 2]}\n",
    "\n",
    "assert (Count(motifs1)==out1)\n",
    "\"\"\"Test 1 # Full dataset\n",
    "Input:\"\"\"\n",
    "motifs2=    [\"GTACAACTGT\",\n",
    "    \"CAACTATGAA\",\n",
    "    \"TCCTACAGGA\",\n",
    "    \"AAGCAAGGGT\",\n",
    "    \"GCGTACGACC\",\n",
    "    \"TCGTCAGCGT\",\n",
    "    \"AACAAGGTCA\",\n",
    "    \"CTCAGGCGTC\",\n",
    "    \"GGATCCAGGT\",\n",
    "    \"GGCAAGTACC\"]\n",
    "#Output:\n",
    "out2= {'A': [2, 3, 3, 3, 6, 4, 2, 2, 1, 3], 'C': [2, 3, 4, 3, 2, 3, 2, 1, 3, 3], 'G': [4, 2, 3, 0, 1, 3, 4, 5, 5, 0], 'T': [2, 2, 0, 4, 1, 0, 2, 2, 1, 4]}\n",
    "assert (Count(motifs2)==out2)"
   ]
  },
  {
   "cell_type": "code",
   "execution_count": 17,
   "metadata": {},
   "outputs": [
    {
     "data": {
      "text/plain": [
       "{'A': [3, 5, 3, 4, 2, 1, 5, 1, 2, 3],\n",
       " 'C': [2, 2, 3, 1, 4, 3, 2, 4, 2, 3],\n",
       " 'G': [2, 1, 2, 4, 3, 3, 2, 3, 4, 3],\n",
       " 'T': [3, 2, 2, 1, 1, 3, 1, 2, 2, 1]}"
      ]
     },
     "execution_count": 17,
     "metadata": {},
     "output_type": "execute_result"
    }
   ],
   "source": [
    "Count(motifs)"
   ]
  },
  {
   "cell_type": "markdown",
   "metadata": {},
   "source": [
    "As shown below, we will further divide all of the elements in the count matrix by t, the number of rows in Motifs. This results in a profile matrix Profile(Motifs) for which element (i,j) is the frequency of the i-th nucleotide in the j-th column of the motif matrix (i.e., the number of occurrences of the i-th nucleotide divided by t, the number of nucleotides in the column). Note that the elements of any column of the profile matrix sum to 1.\n"
   ]
  },
  {
   "cell_type": "code",
   "execution_count": 31,
   "metadata": {},
   "outputs": [],
   "source": [
    "# Input:  A list of kmers Motifs\n",
    "# Output: the profile matrix of Motifs, as a dictionary of lists.\n",
    "def Profile(Motifs):\n",
    "    t = len(Motifs)\n",
    "    k = len(Motifs[0])\n",
    "    profile = {}\n",
    "    counts = Count(Motifs)\n",
    "    for nucleotide in [\"A\",\"C\",\"G\",\"T\"]:\n",
    "        #everything must divided byt the total number of Motifs  \n",
    "        profile[nucleotide] = [ count/float(t) for count in counts[nucleotide]]  \n",
    "    return profile"
   ]
  },
  {
   "cell_type": "code",
   "execution_count": 33,
   "metadata": {},
   "outputs": [],
   "source": [
    "out1 = {'A': [0.2, 0.4, 0.2, 0.0, 0.0, 0.4], 'C': [0.4, 0.2, 0.8, 0.4, 0.0, 0.0], 'G': [0.2, 0.2, 0.0, 0.4, 0.2, 0.2], 'T': [0.2, 0.2, 0.0, 0.2, 0.8, 0.4]}\n",
    "assert(Profile(motifs1)==out1)\n",
    "out2 = {'A': [0.2, 0.3, 0.3, 0.3, 0.6, 0.4, 0.2, 0.2, 0.1, 0.3], 'C': [0.2, 0.3, 0.4, 0.3, 0.2, 0.3, 0.2, 0.1, 0.3, 0.3], 'G': [0.4, 0.2, 0.3, 0.0, 0.1, 0.3, 0.4, 0.5, 0.5, 0.0], 'T': [0.2, 0.2, 0.0, 0.4, 0.1, 0.0, 0.2, 0.2, 0.1, 0.4]}\n",
    "assert(Profile(motifs2)==out2)"
   ]
  },
  {
   "cell_type": "code",
   "execution_count": null,
   "metadata": {},
   "outputs": [],
   "source": []
  }
 ],
 "metadata": {
  "kernelspec": {
   "display_name": "Python 3",
   "language": "python",
   "name": "python3"
  },
  "language_info": {
   "codemirror_mode": {
    "name": "ipython",
    "version": 3
   },
   "file_extension": ".py",
   "mimetype": "text/x-python",
   "name": "python",
   "nbconvert_exporter": "python",
   "pygments_lexer": "ipython3",
   "version": "3.7.0"
  }
 },
 "nbformat": 4,
 "nbformat_minor": 2
}
