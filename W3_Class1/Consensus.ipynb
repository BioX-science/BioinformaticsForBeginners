{
 "cells": [
  {
   "cell_type": "markdown",
   "metadata": {},
   "source": [
    "Finally, we can form a consensus string, denoted Consensus(Motifs), from the most popular nucleotides in each column of the motif matrix (ties are broken arbitrarily). If we select Motifs correctly from the collection of upstream regions, then Consensus(Motifs) provides a candidate regulatory motif for these regions. For example, as shown below, the consensus string for the NF-κB binding sites is \"TCGGGGATTTCC\"."
   ]
  },
  {
   "cell_type": "code",
   "execution_count": 22,
   "metadata": {},
   "outputs": [],
   "source": [
    "# Input:  A list of kmers Motifs\n",
    "# Output: the profile matrix of Motifs, as a dictionary of lists.\n",
    "def Profile(Motifs):\n",
    "    t = len(Motifs)\n",
    "    k = len(Motifs[0])\n",
    "    profile = {}\n",
    "    counts = Count(Motifs)\n",
    "    for nucleotide in [\"A\",\"C\",\"G\",\"T\"]:\n",
    "        #everything must divided byt the total number of Motifs  \n",
    "        profile[nucleotide] = [ count/float(t) for count in counts[nucleotide]]  \n",
    "    return profile\n",
    "\n",
    "# Input:  A set of kmers Motifs\n",
    "# Output: Count(Motifs)\n",
    "def Count(Motifs):\n",
    "    count = {} # initializing the count dictionary\n",
    "    #Initialize each nucleotide with an empty list, \n",
    "    for nucleotide in [\"A\",\"C\",\"G\",\"T\"]:\n",
    "        count[nucleotide] = []     \n",
    "    for ind in range(len(Motifs[0])):\n",
    "        for nucleotide in [\"A\",\"C\",\"G\",\"T\"]:\n",
    "            count[nucleotide].append(0) #everything must have a 0 initially  \n",
    "        for motif in range(len(Motifs)): #For each Motif, loop through chars\n",
    "            count[Motifs[motif][ind]][ind] += 1 # FOr each nuc, increment its count for that Motif\n",
    "    return count\n",
    "\n",
    "# Input:  A set of kmers Motifs\n",
    "# Output: A consensus string of Motifs.\n",
    "def Consensus(Motifs):\n",
    "    consensus = \"\" #empty string.\n",
    "    counts = Count(Motifs)\n",
    "\n",
    "    for j in range(len(Motifs[0])):\n",
    "        m = 0\n",
    "        frequentSymbol = \"\"\n",
    "        for symbol in \"ACGT\":\n",
    "            if counts[symbol][j] > m:\n",
    "                m = counts[symbol][j]\n",
    "                frequentSymbol = symbol\n",
    "        consensus += frequentSymbol # Add most frequent symbol\n",
    "    return consensus, counts\n",
    "\n",
    "def Score(Motifs):\n",
    "    #This really seems inefficient. We could have consensus return both values...\n",
    "    #counts = Count(Motifs)\n",
    "    consensus, counts = Consensus(Motifs)\n",
    "    score = 0\n",
    "    for char in range(len(consensus)):\n",
    "        nucleotide = consensus[char] #Our nucleoutide\n",
    "        keys = [key for key in ['A','C',\"G\",\"T\"] if key != nucleotide ] # What are the non-consensus nucleotides\n",
    "        for key in keys:# For each key\n",
    "            score += counts[key][char] # add the number of times we were incorrect to our score\n",
    "    return score\n",
    "            "
   ]
  },
  {
   "cell_type": "code",
   "execution_count": 21,
   "metadata": {},
   "outputs": [
    {
     "name": "stdout",
     "output_type": "stream",
     "text": [
      "('CACCTA', {'A': [1, 2, 1, 0, 0, 2], 'C': [2, 1, 4, 2, 0, 0], 'G': [1, 1, 0, 2, 1, 1], 'T': [1, 1, 0, 1, 4, 2]})\n"
     ]
    }
   ],
   "source": [
    "motifs1=    [\"AACGTA\",\n",
    "    \"CCCGTT\",\n",
    "    \"CACCTT\",\n",
    "    \"GGATTA\",\n",
    "    \"TTCCGG\"]\n",
    "#Output: Basically, each list contains the number of Nucleotides in the nth position of all motifs in that list.\n",
    "out1= \"CACCTA\"\n",
    "print (Consensus(motifs1))\n",
    "assert (Consensus(motifs1)[0]==out1)\n",
    "\"\"\"Test 1 # Full dataset\n",
    "Input:\"\"\"\n",
    "motifs2=    [\"GTACAACTGT\",\n",
    "    \"CAACTATGAA\",\n",
    "    \"TCCTACAGGA\",\n",
    "    \"AAGCAAGGGT\",\n",
    "    \"GCGTACGACC\",\n",
    "    \"TCGTCAGCGT\",\n",
    "    \"AACAAGGTCA\",\n",
    "    \"CTCAGGCGTC\",\n",
    "    \"GGATCCAGGT\",\n",
    "    \"GGCAAGTACC\"]\n",
    "out2= \"GACTAAGGGT\"\n",
    "assert (Consensus(motifs2)[0]==out2)"
   ]
  },
  {
   "cell_type": "markdown",
   "metadata": {},
   "source": [
    "Finally, we can compute Score(Motifs) by first constructing Consensus(Motifs) and then summing the number of symbols in the j-th column of Motifs that do not match the symbol in position j of the consensus string. We leave this task to you as an exercise."
   ]
  },
  {
   "cell_type": "code",
   "execution_count": 3,
   "metadata": {},
   "outputs": [],
   "source": [
    "out1=14\n",
    "assert (Score(motifs1)==out1)\n",
    "out2=57\n",
    "assert (Score(motifs2)==out2)"
   ]
  },
  {
   "cell_type": "markdown",
   "metadata": {},
   "source": [
    "Biologists also commonly use a motif logo, a diagram for visualizing motif conservation that consists of a stack of letters at each position (see the figure below). The relative sizes of letters indicate their frequency in the column, i.e., highly conserved columns in the motif matrix correspond to tall symbols in the motif logo. (For more on motif logos, see DETOUR: Motif Scoring Functions).\n",
    "\n",
    "\n"
   ]
  },
  {
   "cell_type": "markdown",
   "metadata": {},
   "source": [
    "Now that we have a good grasp of scoring a collection of k-mers, we are ready to formulate a computational problem for motif finding. \n",
    "```\n",
    "Motif Finding Problem: ",
    " Given a collection of strings, find a set of k-mers, one from each string, that minimizes the score of the resulting motif. \n",
    " Input: A collection of strings Dna and an integer k. ",
    "\n",
    " Output: A collection Motifs of k-mers, one from each string in Dna, minimizing Score(Motifs) among\n",
    "    all possible choices of k-mers.\n",
    "```\n",
    "Brute force search (also known as exhaustive search) is a general problem-solving technique that explores all possible candidate solutions and checks whether each candidate solves the problem. Such algorithms require little effort to design and are guaranteed to produce a correct solution, but they may take an enormous amount of time, and the number of candidates may be too large to check.\n",
    "\n",
    "A brute force algorithm for the Motif Finding Problem, BruteForceMotifSearch, considers every possible choice of k-mers Motifs from Dna (one k-mer from each string of n nucleotides) and returns the collection Motifs having minimum score.\n",
    "\n",
    "STOP and Think: Do you see any potential issues with the proposed BruteForceMotifSearch algorithm?"
   ]
  },
  {
   "cell_type": "markdown",
   "metadata": {},
   "source": [
    "Throughout this chapter, we will benchmark our motif finding algorithms by using a Subtle Motif Problem that refers to implanting a 15-mer with four random mutations in ten randomly generated 600 nucleotide-long strings (the typical length of many upstream regulatory regions). The instance of the Subtle Motif Problem that we will use has the implanted 15-mer \"AAAAAAAAGGGGGGG\".\n",
    "\n",
    "To benchmark BruteForceMotifSearch, note that there are n-k+1 choices of k-mers in each of t strings, so that there are (n-k+1)t different ways to form Motifs. For each choice of Motifs, the algorithm calculates Score(Motifs), which requires k⋅t steps. Thus, assuming that k is much smaller than n (as is the case for biological datasets), the overall running time of the brute force motif finding algorithm is on the order of `((n-k+1)t)⋅k⋅t` steps. For the Subtle Motif Problem, this is on the order of `10^29` steps. You may recall that the naive algorithm we developed to generate a symbol array in Chapter 1 took several days to carry out an algorithm with just `10^13` steps. In this case, the earth will have been destroyed by the sun long before BruteForceMotifSearch will terminate. It goes without saying that we need to devise a faster algorithm!\n",
    "\n",
    "We have also thus far assumed that the value of k is known in advance, which is not the case in practice. As a result, we are forced to run our motif finding algorithms for different values of k and then try to deduce the correct motif length. Since some regulatory motifs are rather long, BruteForceMotifSearch will be too slow to find them."
   ]
  },
  {
   "cell_type": "code",
   "execution_count": 23,
   "metadata": {},
   "outputs": [
    {
     "data": {
      "text/plain": [
       "{'A': [0.8333333333333334, 0.5, 0.0, 0.0, 0.0, 1.0],\n",
       " 'C': [0.0, 0.16666666666666666, 0.0, 0.5, 0.3333333333333333, 0.0],\n",
       " 'G': [0.0, 0.3333333333333333, 1.0, 0.0, 0.5, 0.0],\n",
       " 'T': [0.16666666666666666, 0.0, 0.0, 0.5, 0.16666666666666666, 0.0]}"
      ]
     },
     "execution_count": 23,
     "metadata": {},
     "output_type": "execute_result"
    }
   ],
   "source": [
    "#Quiz\n",
    "\n",
    "Motifs = [\"AGGTGA\",\"AAGCTA\",\"AAGCCA\",\"AGGTCA\",\"AAGTGA\",\"TCGCGA\"]\n",
    "#Motifs = [\"AAGTGA\",\"TCGCGA\"]\n",
    "\n",
    "\n",
    "prof= {\"A\": [0.4, 0.3, 0.0, 0.1, 0.0, 0.9],\n",
    "\n",
    "\"C\":[ 0.2, 0.3, 0.0, 0.4, 0.0, 0.1],\n",
    "\n",
    "\"G\": [0.1, 0.3, 1.0, 0.1, 0.5, 0.0],\n",
    "\n",
    "\"T\":[ 0.3, 0.1, 0.0, 0.4, 0.5, 0.0],}\n",
    "\n",
    "Consensus(Motifs)\n",
    "Profile(Motifs)"
   ]
  },
  {
   "cell_type": "code",
   "execution_count": 9,
   "metadata": {},
   "outputs": [
    {
     "ename": "NameError",
     "evalue": "name 'Pr' is not defined",
     "output_type": "error",
     "traceback": [
      "\u001b[1;31m---------------------------------------------------------------------------\u001b[0m",
      "\u001b[1;31mNameError\u001b[0m                                 Traceback (most recent call last)",
      "\u001b[1;32m<ipython-input-9-c87ad69fe226>\u001b[0m in \u001b[0;36m<module>\u001b[1;34m()\u001b[0m\n\u001b[0;32m     10\u001b[0m }\n\u001b[0;32m     11\u001b[0m \u001b[1;33m\u001b[0m\u001b[0m\n\u001b[1;32m---> 12\u001b[1;33m \u001b[0mPr\u001b[0m\u001b[1;33m(\u001b[0m\u001b[1;34m\"GAGCTA\"\u001b[0m\u001b[1;33m,\u001b[0m\u001b[0mProfile\u001b[0m\u001b[1;33m)\u001b[0m\u001b[1;33m\u001b[0m\u001b[0m\n\u001b[0m",
      "\u001b[1;31mNameError\u001b[0m: name 'Pr' is not defined"
     ]
    }
   ],
   "source": []
  },
  {
   "cell_type": "code",
   "execution_count": null,
   "metadata": {},
   "outputs": [],
   "source": []
  }
 ],
 "metadata": {
  "kernelspec": {
   "display_name": "Python 3",
   "language": "python",
   "name": "python3"
  },
  "language_info": {
   "codemirror_mode": {
    "name": "ipython",
    "version": 3
   },
   "file_extension": ".py",
   "mimetype": "text/x-python",
   "name": "python",
   "nbconvert_exporter": "python",
   "pygments_lexer": "ipython3",
   "version": "3.7.0"
  }
 },
 "nbformat": 4,
 "nbformat_minor": 2
}
