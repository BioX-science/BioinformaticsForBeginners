{
 "cells": [
  {
   "cell_type": "markdown",
   "metadata": {},
   "source": [
    "In order to define a motif scoring function taking this into account, first note that every column of Profile(Motifs) corresponds to a probability distribution, or a collection of nonnegative numbers that sum to 1. For example, the second column in the figure in the first step corresponds to the probabilities 0.2, 0.6, 0.0, and 0.2 for A, C, G, and T, respectively.\n",
    "\n",
    "Entropy is a measure of the uncertainty of a probability distribution (p1, . . . , pN), and is defined as\n",
    "\n",
    "H(p1,…,pN)=−∑i=1Npi⋅log2pi\n",
    "For example, the entropy of the probability distribution (0.2, 0.6, 0.0, 0.2) corresponding to the second column of the profile matrix in the figure in the first step is\n",
    "\n",
    "−(0.2log20.2+0.6log20.6+0.0log20.0+0.2log20.2)≈1.371\n",
    "whereas the entropy of the more conserved final column (0.0, 0.6, 0.0, 0.4) is\n",
    "\n",
    "−(0.0log20.0+0.6log20.6+0.0log20.0+0.4log20.4)≈0.971\n",
    "and the entropy of the very conserved 5th column (0.0, 0.0, 0.9, 0.1) is\n",
    "\n",
    "−(0.0log20.0+0.0log20.0+0.9log20.9+0.1log20.1)≈0.467\n",
    "Note that technically, log2(0) is not defined, but in the computation of entropy, we assume that 0 · log2(0) is equal to 0.\n",
    "\n",
    "STOP and Think: What are the maximum and minimum possible values for the entropy of a probability distribution containing four values?"
   ]
  },
  {
   "cell_type": "code",
   "execution_count": 2,
   "metadata": {},
   "outputs": [],
   "source": [
    "def Count(Motifs):\n",
    "    count = {} # initializing the count dictionary\n",
    "    #Initialize each nucleotide with an empty list, \n",
    "    for nucleotide in [\"A\",\"C\",\"G\",\"T\"]:\n",
    "        count[nucleotide] = []     \n",
    "    for ind in range(len(Motifs[0])):\n",
    "        for nucleotide in [\"A\",\"C\",\"G\",\"T\"]:\n",
    "            count[nucleotide].append(0) #everything must have a 0 initially  \n",
    "        for motif in range(len(Motifs)): #For each Motif, loop through chars\n",
    "            count[Motifs[motif][ind]][ind] += 1 # FOr each nuc, increment its count for that Motif\n",
    "    return count\n",
    "\n",
    "# Input:  A list of kmers Motifs\n",
    "# Output: the profile matrix of Motifs, as a dictionary of lists.\n",
    "def Profile(Motifs):\n",
    "    t = len(Motifs)\n",
    "    k = len(Motifs[0])\n",
    "    profile = {}\n",
    "    counts = Count(Motifs)\n",
    "    for nucleotide in [\"A\",\"C\",\"G\",\"T\"]:\n",
    "        #everything must divided byt the total number of Motifs  \n",
    "        profile[nucleotide] = [ count/float(t) for count in counts[nucleotide]]  \n",
    "    return profile\n"
   ]
  },
  {
   "cell_type": "code",
   "execution_count": 3,
   "metadata": {},
   "outputs": [],
   "source": [
    "Motifs = [\"TCGGGGGTTTTT\",\n",
    "\"CCGGTGACTTAC\",\n",
    "\"ACGGGGATTTTC\",\n",
    "\"TTGGGGACTTTT\",\n",
    "\"AAGGGGACTTCC\",\n",
    "\"TTGGGGACTTCC\",\n",
    "\"TCGGGGATTCAT\",\n",
    "\"TCGGGGATTCCT\",\n",
    "\"TAGGGGAACTAC\",\n",
    "\"TCGGGTATAACC\"]\n",
    "\n",
    "prof = Profile(Motifs)"
   ]
  },
  {
   "cell_type": "code",
   "execution_count": 8,
   "metadata": {},
   "outputs": [
    {
     "data": {
      "text/plain": [
       "9.916290005356972"
      ]
     },
     "execution_count": 8,
     "metadata": {},
     "output_type": "execute_result"
    }
   ],
   "source": [
    "import math\n",
    "def Entropy(Profile):\n",
    "    H = 0.0\n",
    "    n_entries = len(Profile[\"A\"])\n",
    "    for n in range(n_entries):\n",
    "        temp = 0.0\n",
    "        for key in Profile.keys():\n",
    "            p = Profile[key][n]\n",
    "            if p > 0.0:\n",
    "                temp +=  p*math.log(p, 2)\n",
    "        H+=temp\n",
    "    \n",
    "    return -H\n",
    "\n",
    "Entropy(prof)"
   ]
  },
  {
   "cell_type": "code",
   "execution_count": null,
   "metadata": {},
   "outputs": [],
   "source": []
  }
 ],
 "metadata": {
  "kernelspec": {
   "display_name": "Python 3",
   "language": "python",
   "name": "python3"
  },
  "language_info": {
   "codemirror_mode": {
    "name": "ipython",
    "version": 3
   },
   "file_extension": ".py",
   "mimetype": "text/x-python",
   "name": "python",
   "nbconvert_exporter": "python",
   "pygments_lexer": "ipython3",
   "version": "3.7.0"
  }
 },
 "nbformat": 4,
 "nbformat_minor": 2
}
