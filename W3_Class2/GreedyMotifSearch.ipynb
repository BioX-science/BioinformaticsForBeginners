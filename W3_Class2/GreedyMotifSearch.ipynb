{
 "cells": [
  {
   "cell_type": "markdown",
   "metadata": {},
   "source": [
    "Our proposed greedy motif search algorithm, GreedyMotifSearch, starts by setting BestMotifs equal to the first k-mer from each string in Dna. These strings will serve as the best-scoring motifs found thus far.\n",
    "```\n",
    "    BestMotifs = []\n",
    "    for i in range(0, t):\n",
    "        BestMotifs.append(Dna[i][0:k])\n",
    "```\n",
    "It then ranges over all possible k-mers in Dna[0], trying each one as Motifs[0]. For a given choice of k-mer in Dna[0] for Motifs[0], the algorithm then builds a profile matrix Profile for this lone k-mer, and sets Motifs[1] equal to the Profile-most probable k-mer in Dna[1]. GreedyMotifSearch then iterates by updating Profile as the profile matrix formed from Motifs[0] and Motifs[1], and sets Motifs[2] equal to the Profile-most probable k-mer in Dna[2]. In general, after finding k-mers Motifs in the first i strings of Dna, GreedyMotifSearch constructs Profile(Motifs) and sets Motifs[i] equal to the Profile-most probable k-mer from Dna[i] based on this profile matrix.\n",
    "```\n",
    "    n = len(Dna[0])\n",
    "    for i in range(n-k+1):\n",
    "        Motifs = []\n",
    "        Motifs.append(Dna[0][i:i+k])\n",
    "        for j in range(1, t):\n",
    "            P = Profile(Motifs[0:j])\n",
    "            Motifs.append(ProfileMostProbablePattern(Dna[j], k, P))\n",
    "```\n",
    "After selecting a k-mer from each string in Dna to obtain a collection of strings Motifs, GreedyMotifSearch checks whether Motifs outscores the current best scoring collection of motifs, BestMotifs.\n",
    "```\n",
    "        if Score(Motifs) < Score(BestMotifs):\n",
    "            BestMotifs = Motifs\n",
    "```\n",
    "It then returns to the top of the for loop and moves one symbol over in Dna[0], beginning the entire process of generating  Motifs again. After generating a collection Motifs for every possible initial k-mer from Dna[0], it returns the high-scoring strings BestMotifs.\n",
    "\n",
    "Note: Graeme Benstead-Hume wrote a post explaining GreedyMotifSearch in greater detail. Graeme was one of the excellent learners in our first ever MOOC session, and has since gone on to become a PhD student in bioinformatics at the University of Sussex! If you need more time to understand the algorithm, you may want to check out his post: http://www.mrgraeme.co.uk/greedy-motif-search/.\n",
    "\n",
    "Code Challenge (1 point): Consolidate this code into a function GreedyMotifSearch(Dna, k, t), and then add this function to Motifs.py."
   ]
  },
  {
   "cell_type": "code",
   "execution_count": 1,
   "metadata": {},
   "outputs": [],
   "source": [
    "# Input:  A set of kmers Motifs\n",
    "# Output: Count(Motifs)\n",
    "def Count(Motifs):\n",
    "    count = {} # initializing the count dictionary\n",
    "    #Initialize each nucleotide with an empty list, \n",
    "    for nucleotide in [\"A\",\"C\",\"G\",\"T\"]:\n",
    "        count[nucleotide] = []     \n",
    "    for ind in range(len(Motifs[0])):\n",
    "        for nucleotide in [\"A\",\"C\",\"G\",\"T\"]:\n",
    "            count[nucleotide].append(0) #everything must have a 0 initially  \n",
    "        for motif in range(len(Motifs)): #For each Motif, loop through chars\n",
    "            count[Motifs[motif][ind]][ind] += 1 # FOr each nuc, increment its count for that Motif\n",
    "    return count\n",
    "\n",
    "# Input:  A list of kmers Motifs\n",
    "# Output: the profile matrix of Motifs, as a dictionary of lists.\n",
    "def Profile(Motifs):\n",
    "    t = len(Motifs)\n",
    "    k = len(Motifs[0])\n",
    "    profile = {}\n",
    "    counts = Count(Motifs)\n",
    "    for nucleotide in [\"A\",\"C\",\"G\",\"T\"]:\n",
    "        #everything must divided byt the total number of Motifs  \n",
    "        profile[nucleotide] = [ count/float(t) for count in counts[nucleotide]]  \n",
    "    return profile\n",
    "\n",
    "# Input:  A set of kmers Motifs\n",
    "# Output: A consensus string of Motifs.\n",
    "def Consensus(Motifs):\n",
    "    consensus = \"\" #empty string.\n",
    "    counts = Count(Motifs)\n",
    "\n",
    "    for j in range(len(Motifs[0])):\n",
    "        m = 0\n",
    "        frequentSymbol = \"\"\n",
    "        for symbol in \"ACGT\":\n",
    "            if counts[symbol][j] > m:\n",
    "                m = counts[symbol][j]\n",
    "                frequentSymbol = symbol\n",
    "        consensus += frequentSymbol # Add most frequent symbol\n",
    "    return consensus, counts\n",
    "\n",
    "# Input:  String Text and profile matrix Profile\n",
    "# Output: Pr(Text, Profile)\n",
    "def Pr(Motif, Profile):\n",
    "    prob=1.0\n",
    "    for char in range(len(Motif)):\n",
    "        prob *= Profile[Motif[char]][char] # What is the probability that this character is in this position?\n",
    "    \n",
    "    return prob\n",
    "\n",
    "def Score(Motifs):\n",
    "    #This really seems inefficient. We could have consensus return both values...\n",
    "    #counts = Count(Motifs)\n",
    "    consensus, counts = Consensus(Motifs)\n",
    "    score = 0\n",
    "    for char in range(len(consensus)):\n",
    "        nucleotide = consensus[char] #Our nucleoutide\n",
    "        keys = [key for key in ['A','C',\"G\",\"T\"] if key != nucleotide ] # What are the non-consensus nucleotides\n",
    "        for key in keys:# For each key\n",
    "            score += counts[key][char] # add the number of times we were incorrect to our score\n",
    "    return score\n",
    "\n",
    "# Write your ProfileMostProbableKmer() function here.\n",
    "# The profile matrix assumes that the first row corresponds to A, the second corresponds to C,\n",
    "# the third corresponds to G, and the fourth corresponds to T.\n",
    "# You should represent the profile matrix as a dictionary whose keys are 'A', 'C', 'G', and 'T' and whose values are lists of floats\n",
    "def ProfileMostProbableKmer(text, k, Profile):\n",
    "    most_prob = \"\"\n",
    "    high_prob = -1.0\n",
    "    for index in range(len(text)-k+1):\n",
    "        Motif = text[index:index+k]\n",
    "        Motif_prob = Pr(Motif, Profile)\n",
    "        if Motif_prob > high_prob:\n",
    "            high_prob = Motif_prob\n",
    "            most_prob = Motif\n",
    "    return most_prob"
   ]
  },
  {
   "cell_type": "code",
   "execution_count": 2,
   "metadata": {},
   "outputs": [],
   "source": [
    "# Input:  A list of kmers Dna, and integers k and t (where t is the number of kmers in Dna)\n",
    "# Output: GreedyMotifSearch(Dna, k, t)\n",
    "def GreedyMotifSearchWithPseudocounts(Dna, k, t):\n",
    "    BestMotifs = []\n",
    "    for i in range(0, t):\n",
    "        BestMotifs.append(Dna[i][0:k])\n",
    "        \n",
    "    n = len(Dna[0])\n",
    "    for i in range(n-k+1):\n",
    "        Motifs = []\n",
    "        Motifs.append(Dna[0][i:i+k])\n",
    "        for j in range(1, t):\n",
    "            P = Profile(Motifs[0:j])\n",
    "            Motifs.append(ProfileMostProbableKmer(Dna[j], k, P))\n",
    "        if Score(Motifs) < Score(BestMotifs):\n",
    "            BestMotifs = Motifs\n",
    "    return BestMotifs"
   ]
  },
  {
   "cell_type": "code",
   "execution_count": 3,
   "metadata": {},
   "outputs": [
    {
     "data": {
      "text/plain": [
       "['CAG', 'CAG', 'CAA', 'CAA', 'CAA']"
      ]
     },
     "execution_count": 3,
     "metadata": {},
     "output_type": "execute_result"
    }
   ],
   "source": [
    "Dna = [\n",
    "\"GGCGTTCAGGCA\", \n",
    "\"AAGAATCAGTCA\", \n",
    "\"CAAGGAGTTCGC\",\n",
    "\"CACGTCAATCAC\", \n",
    "\"CAATAATATTCG\"\n",
    "]\n",
    "\n",
    "GreedyMotifSearch(Dna, 3, 5)"
   ]
  },
  {
   "cell_type": "markdown",
   "metadata": {},
   "source": [
    "In 2003, biologists found the dormancy survival regulator (DosR), a transcription factor that regulates many genes whose expression dramatically changes under hypoxic conditions. However, it remained unclear how DosR regulates these genes, and its transcription factor binding site remained unknown. In an attempt to resolve this puzzle, biologists performed a DNA array experiment and found 25 genes whose expression levels significantly changed in hypoxic conditions. Given the upstream regions of these genes, each of which is 250 nucleotides long, we would like to discover the “hidden message” that DosR uses to control the expression of these genes.\n",
    "\n",
    "To simplify the problem a bit, we have selected just 10 of the 25 genes, resulting in the DosR dataset (click here to download). In this chapter, we will try to identify motifs in this dataset using the motif finding algorithms that we will develop. However, we will not give you a hint about the DosR motif."
   ]
  },
  {
   "cell_type": "code",
   "execution_count": 9,
   "metadata": {},
   "outputs": [
    {
     "data": {
      "text/plain": [
       "['CAG', 'CAG', 'CAA', 'CAA', 'CAA']"
      ]
     },
     "execution_count": 9,
     "metadata": {},
     "output_type": "execute_result"
    }
   ],
   "source": [
    "k, t = 3, 5\n",
    "DNA = [\"GGCGTTCAGGCA\",\n",
    "    \"AAGAATCAGTCA\",\n",
    "    \"CAAGGAGTTCGC\",\n",
    "    \"CACGTCAATCAC\",\n",
    "    \"CAATAATATTCG\"]\n",
    "GreedyMotifSearch(DNA, 3, 5)"
   ]
  },
  {
   "cell_type": "code",
   "execution_count": 10,
   "metadata": {},
   "outputs": [],
   "source": [
    "Dna = [\n",
    "\"GCGCCCCGCCCGGACAGCCATGCGCTAACCCTGGCTTCGATGGCGCCGGCTCAGTTAGGGCCGGAAGTCCCCAATGTGGCAGACCTTTCGCCCCTGGCGGACGAATGACCCCAGTGGCCGGGACTTCAGGCCCTATCGGAGGGCTCCGGCGCGGTGGTCGGATTTGTCTGTGGAGGTTACACCCCAATCGCAAGGATGCATTATGACCAGCGAGCTGAGCCTGGTCGCCACTGGAAAGGGGAGCAACATC\",\n",
    "\"CCGATCGGCATCACTATCGGTCCTGCGGCCGCCCATAGCGCTATATCCGGCTGGTGAAATCAATTGACAACCTTCGACTTTGAGGTGGCCTACGGCGAGGACAAGCCAGGCAAGCCAGCTGCCTCAACGCGCGCCAGTACGGGTCCATCGACCCGCGGCCCACGGGTCAAACGACCCTAGTGTTCGCTACGACGTGGTCGTACCTTCGGCAGCAGATCAGCAATAGCACCCCGACTCGAGGAGGATCCCG\",\n",
    "\"ACCGTCGATGTGCCCGGTCGCGCCGCGTCCACCTCGGTCATCGACCCCACGATGAGGACGCCATCGGCCGCGACCAAGCCCCGTGAAACTCTGACGGCGTGCTGGCCGGGCTGCGGCACCTGATCACCTTAGGGCACTTGGGCCACCACAACGGGCCGCCGGTCTCGACAGTGGCCACCACCACACAGGTGACTTCCGGCGGGACGTAAGTCCCTAACGCGTCGTTCCGCACGCGGTTAGCTTTGCTGCC\", \n",
    "\"GGGTCAGGTATATTTATCGCACACTTGGGCACATGACACACAAGCGCCAGAATCCCGGACCGAACCGAGCACCGTGGGTGGGCAGCCTCCATACAGCGATGACCTGATCGATCATCGGCCAGGGCGCCGGGCTTCCAACCGTGGCCGTCTCAGTACCCAGCCTCATTGACCCTTCGACGCATCCACTGCGCGTAAGTCGGCTCAACCCTTTCAAACCGCTGGATTACCGACCGCAGAAAGGGGGCAGGAC\",\n",
    "\"GTAGGTCAAACCGGGTGTACATACCCGCTCAATCGCCCAGCACTTCGGGCAGATCACCGGGTTTCCCCGGTATCACCAATACTGCCACCAAACACAGCAGGCGGGAAGGGGCGAAAGTCCCTTATCCGACAATAAAACTTCGCTTGTTCGACGCCCGGTTCACCCGATATGCACGGCGCCCAGCCATTCGTGACCGACGTCCCCAGCCCCAAGGCCGAACGACCCTAGGAGCCACGAGCAATTCACAGCG\", \n",
    "\"CCGCTGGCGACGCTGTTCGCCGGCAGCGTGCGTGACGACTTCGAGCTGCCCGACTACACCTGGTGACCACCGCCGACGGGCACCTCTCCGCCAGGTAGGCACGGTTTGTCGCCGGCAATGTGACCTTTGGGCGCGGTCTTGAGGACCTTCGGCCCCACCCACGAGGCCGCCGCCGGCCGATCGTATGACGTGCAATGTACGCCATAGGGTGCGTGTTACGGCGATTACCTGAAGGCGGCGGTGGTCCGGA\", \n",
    "\"GGCCAACTGCACCGCGCTCTTGATGACATCGGTGGTCACCATGGTGTCCGGCATGATCAACCTCCGCTGTTCGATATCACCCCGATCTTTCTGAACGGCGGTTGGCAGACAACAGGGTCAATGGTCCCCAAGTGGATCACCGACGGGCGCGGACAAATGGCCCGCGCTTCGGGGACTTCTGTCCCTAGCCCTGGCCACGATGGGCTGGTCGGATCAAAGGCATCCGTTTCCATCGATTAGGAGGCATCAA\", \n",
    "\"GTACATGTCCAGAGCGAGCCTCAGCTTCTGCGCAGCGACGGAAACTGCCACACTCAAAGCCTACTGGGCGCACGTGTGGCAACGAGTCGATCCACACGAAATGCCGCCGTTGGGCCGCGGACTAGCCGAATTTTCCGGGTGGTGACACAGCCCACATTTGGCATGGGACTTTCGGCCCTGTCCGCGTCCGTGTCGGCCAGACAAGCTTTGGGCATTGGCCACAATCGGGCCACAATCGAAAGCCGAGCAG\", \n",
    "\"GGCAGCTGTCGGCAACTGTAAGCCATTTCTGGGACTTTGCTGTGAAAAGCTGGGCGATGGTTGTGGACCTGGACGAGCCACCCGTGCGATAGGTGAGATTCATTCTCGCCCTGACGGGTTGCGTCTGTCATCGGTCGATAAGGACTAACGGCCCTCAGGTGGGGACCAACGCCCCTGGGAGATAGCGGTCCCCGCCAGTAACGTACCGCTGAACCGACGGGATGTATCCGCCCCAGCGAAGGAGACGGCG\", \n",
    "\"TCAGCACCATGACCGCCTGGCCACCAATCGCCCGTAACAAGCGGGACGTCCGCGACGACGCGTGCGCTAGCGCCGTGGCGGTGACAACGACCAGATATGGTCCGAGCACGCGGGCGAACCTCGTGTTCTGGCCTCGGCCAGTTGTGTAGAGCTCATCGCTGTCATCGAGCGATATCCGACCACTGATCCAAGTCGGGGGCTCTGGGGACCGAAGTCCCCGGGCTCGGAGCTATCGGACCTCACGATCACC\"\n",
    "]"
   ]
  },
  {
   "cell_type": "code",
   "execution_count": 14,
   "metadata": {},
   "outputs": [
    {
     "name": "stdout",
     "output_type": "stream",
     "text": [
      "15 10\n"
     ]
    }
   ],
   "source": [
    "# set t equal to the number of strings in Dna and k equal to 15\n",
    "k, t = 15, len(Dna)\n",
    "print (k, t)\n",
    "Motifs = GreedyMotifSearch(Dna, k, t)"
   ]
  },
  {
   "cell_type": "code",
   "execution_count": 15,
   "metadata": {},
   "outputs": [
    {
     "data": {
      "text/plain": [
       "64"
      ]
     },
     "execution_count": 15,
     "metadata": {},
     "output_type": "execute_result"
    }
   ],
   "source": [
    "Score(Motifs)"
   ]
  },
  {
   "cell_type": "markdown",
   "metadata": {},
   "source": [
    "GreedyMotifSearch is fast and can be run with k = 15 to find candidate motifs in the DosR dataset, as we saw on the previous step.  At the same time, it trades speed for accuracy; when we run it on the Subtle Motif Dataset, GreedyMotifSearch returns the 15-mer \"gtAAAtAgaGatGtG\" (total score: 58), which varies greatly from the true implanted motif \"AAAAAAAAGGGGGGG\".  This makes us highly suspicious of the results we obtained when running this algorithm on the DosR dataset.\n",
    "\n",
    "STOP and Think: Why does GreedyMotifSearch perform so poorly?"
   ]
  },
  {
   "cell_type": "markdown",
   "metadata": {},
   "source": [
    "At first glance, GreedyMotifSearch may seem like a reasonable algorithm, but it is not! Let’s see whether GreedyMotifSearch will find the (4, 1)-motif \"ACGT\" implanted in the following strings Dna:\n",
    "```\n",
    "ttACCTtaac\n",
    "gATGTctgtc\n",
    "acgGCGTtag\n",
    "ccctaACGAg\n",
    "cgtcagAGGT\n",
    "```\n",
    "We will assume that the algorithm has already correctly chosen the implanted 4-mer \"ACCT\" from the first string in Dna and constructed the corresponding Profile:\n",
    "```\n",
    "A: 1 0 0 0\n",
    "C: 0 1 1 0\n",
    "G: 0 0 0 0\n",
    "T: 0 0 0 1\n",
    "```\n",
    "The algorithm is now ready to search for a Profile-most probable 4-mer in the second string. The issue, however, is that there are so many zeroes in the profile matrix that the probability of every 4-mer but \"ACCT\" is zero! Thus, unless \"ACCT\" is present in every string in Dna, there is little chance that GreedyMotifSearch will find the implanted motif. Zeroes in the profile matrix are not just a minor annoyance but rather a persistent problem that we must address."
   ]
  },
  {
   "cell_type": "code",
   "execution_count": null,
   "metadata": {},
   "outputs": [],
   "source": []
  }
 ],
 "metadata": {
  "kernelspec": {
   "display_name": "Python 3",
   "language": "python",
   "name": "python3"
  },
  "language_info": {
   "codemirror_mode": {
    "name": "ipython",
    "version": 3
   },
   "file_extension": ".py",
   "mimetype": "text/x-python",
   "name": "python",
   "nbconvert_exporter": "python",
   "pygments_lexer": "ipython3",
   "version": "3.7.0"
  }
 },
 "nbformat": 4,
 "nbformat_minor": 2
}
