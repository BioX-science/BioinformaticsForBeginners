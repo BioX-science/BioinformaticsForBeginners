{
 "cells": [
  {
   "cell_type": "markdown",
   "metadata": {},
   "source": [
    "We will now turn to randomized algorithms that flip coins and roll dice in order to search for motifs. Making random algorithmic decisions may sound like a disastrous idea — just imagine a chess game in which every move would be decided by rolling a die. However, an 18th Century French mathematician and naturalist, Comte de Buffon, first proved that randomized algorithms are useful by randomly dropping needles onto parallel strips of wood and using the results of this experiment to accurately approximate the constant π (see DETOUR: Buffon’s Needle). \n",
    "\n",
    "Randomized algorithms may be nonintuitive because they lack the control of traditional algorithms. Some randomized algorithms are Las Vegas algorithms, which deliver solutions that are guaranteed to be exact, despite the fact that they rely on making random decisions. Yet most randomized algorithms, including the motif finding algorithms that we will consider in this chapter, are Monte Carlo algorithms. These algorithms are not guaranteed to return exact solutions, but they do quickly find approximate solutions. Because of their speed, they can be run many times, allowing us to choose the best approximation from thousands of runs."
   ]
  },
  {
   "cell_type": "markdown",
   "metadata": {},
   "source": [
    "We previously defined Profile(Motifs) as the profile matrix constructed from a collection of k-mers Motifs in Dna. Now, given a collection of strings Dna and an arbitrary 4 x k matrix Profile, we define Motifs(Profile, Dna) as the collection of k-mers formed by the Profile-most probable k-mers in each string from Dna. For example, consider the following Profile and Dna: \n",
    "\n",
    "Write a function Motifs(Profile, Dna) that takes a profile matrix Profile corresponding to a list of strings Dna as input and returns a list of the Profile-most probable k-mers in each string from Dna. Then add this function to Motifs.py."
   ]
  },
  {
   "cell_type": "code",
   "execution_count": 6,
   "metadata": {},
   "outputs": [],
   "source": [
    "from numba import jit\n",
    "\n",
    "# Input:  A profile matrix Profile and a list of strings Dna\n",
    "# Output: Motifs(Profile, Dna)\n",
    "@jit\n",
    "def Motifs(Profile, Dna):\n",
    "    output_motifs = []\n",
    "    k = len(Profile[\"A\"]) # I think this should be an input parameter, no?\n",
    "    for text in Dna: #For each string, what is the most probable kmer?\n",
    "        output_motifs.append(ProfileMostProbableKmer(text, k, Profile))\n",
    "    return output_motifs\n",
    "\n",
    "# Input:  String Text and profile matrix Profile\n",
    "# Output: Pr(Text, Profile)\n",
    "@jit\n",
    "def Pr(Motif, Profile):\n",
    "    prob=1.0\n",
    "    for char in range(len(Motif)):\n",
    "        prob *= Profile[Motif[char]][char] # What is the probability that this character is in this position?    \n",
    "    return prob\n",
    "\n",
    "# The profile matrix assumes that the first row corresponds to A, the second corresponds to C,\n",
    "# the third corresponds to G, and the fourth corresponds to T.\n",
    "# You should represent the profile matrix as a dictionary whose keys are 'A', 'C', 'G', and 'T' and whose values are lists of floats\n",
    "#@jit #This last @jit returns emptry strings!\n",
    "def ProfileMostProbableKmer(text, k, Profile):\n",
    "    most_prob = \"\"\n",
    "    high_prob = -1.0\n",
    "    for index in range(len(text)-k+1):\n",
    "        Motif = text[index:index+k]\n",
    "        Motif_prob = Pr(Motif, Profile)\n",
    "        if Motif_prob > high_prob:\n",
    "            high_prob = Motif_prob\n",
    "            most_prob = Motif\n",
    "    return str(most_prob)"
   ]
  },
  {
   "cell_type": "code",
   "execution_count": 7,
   "metadata": {},
   "outputs": [
    {
     "data": {
      "text/plain": [
       "['ACCT', 'ATGT', 'GCGT', 'ACGA', 'AGGT']"
      ]
     },
     "execution_count": 7,
     "metadata": {},
     "output_type": "execute_result"
    }
   ],
   "source": [
    "ProfileTestCase0= { 'A': [0.8, 0.0, 0.0, 0.2 ],'C': [ 0.0, 0.6, 0.2, 0.0], 'G': [ 0.2 ,0.2 ,0.8, 0.0], 'T': [ 0.0, 0.2, 0.0, 0.8]}   \n",
    "DnaTC0=['TTACCTTAAC','GATGTCTGTC','ACGGCGTTAG','CCCTAACGAG','CGTCAGAGGT']\n",
    "out0 = [\"ACCT\",\n",
    "    \"ATGT\",\n",
    "    \"GCGT\",\n",
    "    \"ACGA\",\n",
    "    \"AGGT\"]\n",
    "\n",
    "Motifs(ProfileTestCase0,DnaTC0)"
   ]
  },
  {
   "cell_type": "markdown",
   "metadata": {},
   "source": [
    "In general, we can begin from a collection of randomly chosen k-mers Motifs in Dna, construct Profile(Motifs), and use this profile to generate a new collection of k-mers:\n",
    "\n",
    "  Motifs(Profile(Motifs), Dna).\n",
    "\n",
    "Why would we do this? Because our hope is that Motifs(Profile(Motifs), Dna) has a better score than the original collection of k-mers Motifs. We can then form the profile matrix of these k-mers,\n",
    "\n",
    "Profile(Motifs(Profile(Motifs), Dna))\n",
    "\n",
    "and use it to form the most probable k-mers,\n",
    "\n",
    "Motifs(Profile(Motifs(Profile(Motifs), Dna)), Dna).\n",
    "\n",
    "We can continue to iterate. . .\n",
    "\n",
    "...Profile(Motifs(Profile(Motifs(Profile(Motifs), Dna)), Dna))...\n",
    "\n",
    "for as long as the score of the constructed motifs keeps improving, which is exactly what RandomizedMotifSearch does. To implement this algorithm, we will need to randomly select the initial collection of k-mers that form the motif matrix Motifs. To do so, we will first need to implement a random number generator that is equally likely to return any integer between 1 and M. You might like to think about this random number generator as an unbiased M-sided die.\n",
    "\n",
    "STOP and Think: How would you implement an algorithm for generating a random integer? "
   ]
  },
  {
   "cell_type": "code",
   "execution_count": 10,
   "metadata": {},
   "outputs": [],
   "source": [
    "import random\n",
    "# Input:  A list of strings Dna, and integers k and t\n",
    "# Output: RandomMotifs(Dna, k, t)\n",
    "# HINT:   You might not actually need to use t since t = len(Dna), but you may find it convenient\n",
    "@jit\n",
    "def RandomMotifs(Dna, k, t):\n",
    "    rand_motifs = []\n",
    "    m = len(Dna[0])# What is the max length of one of our strings?\n",
    "    for text in Dna:\n",
    "            i = random.randint(0, m-k)#Pick a random int that is up to k less than the max value\n",
    "            rand_motifs.append(text[i:i+k])\n",
    "    return rand_motifs"
   ]
  },
  {
   "cell_type": "code",
   "execution_count": 11,
   "metadata": {},
   "outputs": [
    {
     "data": {
      "text/plain": [
       "['TTA', 'TGT', 'TTA', 'TAA', 'CGT']"
      ]
     },
     "execution_count": 11,
     "metadata": {},
     "output_type": "execute_result"
    }
   ],
   "source": [
    "k, t = 3, 5\n",
    "\n",
    "RandomMotifs(DnaTC0, k, t)"
   ]
  },
  {
   "cell_type": "code",
   "execution_count": 12,
   "metadata": {},
   "outputs": [
    {
     "data": {
      "text/plain": [
       "['aTT', 'GTC', 'aAC', 'aAC', 'aGA']"
      ]
     },
     "execution_count": 12,
     "metadata": {},
     "output_type": "execute_result"
    }
   ],
   "source": [
    "out0 = [\"aTTAz\",\n",
    "    \"aGTCz\",\n",
    "    \"aACGz\",\n",
    "    \"aACGz\",\n",
    "    \"aGAGz\"]\n",
    "RandomMotifs(out0, k, t)"
   ]
  },
  {
   "cell_type": "markdown",
   "metadata": {},
   "source": [
    "We are now ready to develop RandomizedMotifSearch. We start by generating a collection of random motifs using the function from the previous step, which we set as the best-scoring collection of motifs.\n",
    "```\n",
    "    M = RandomMotifs(Dna, k, t)\n",
    "    BestMotifs = M\n",
    "```\n",
    "The code below stops running as soon as the score of the motifs that we generate stops improving. It uses the loop “while True”, which iterates until it encounters a return statement. It can be dangerous to use such a loop, since it could lead to an infinite loop in which a program never terminates. However, in this particular case, the motif score must eventually stop improving, so that RandomizedMotifSearch must eventually terminate.\n",
    "```\n",
    "       ",
    "while True:\n",
    "        Profile = ProfileWithPseudocounts(M)\n",
    "        M = Motifs(Profile, Dna)\n",
    "        if Score(M) < Score(BestMotifs):\n",
    "            BestMotifs = M\n",
    "        else:\n",
    "            return BestMotifs \n",
    "```\n",
    "Code Challenge (1 point): Put this code into a function RandomizedMotifSearch that takes a list of strings Dna along with integers k and t as input.   Then add this function to Motifs.py."
   ]
  },
  {
   "cell_type": "code",
   "execution_count": 21,
   "metadata": {},
   "outputs": [],
   "source": [
    "# Input:  A set of kmers Motifs\n",
    "# Output: A consensus string of Motifs.\n",
    "def Consensus(Motifs):\n",
    "    consensus = \"\" #empty string.\n",
    "    counts = CountWithPseudocounts(Motifs)\n",
    "\n",
    "    for j in range(len(Motifs[0])):\n",
    "        m = 0\n",
    "        frequentSymbol = \"\"\n",
    "        for symbol in \"ACGT\":\n",
    "            if counts[symbol][j] > m:\n",
    "                m = counts[symbol][j]\n",
    "                frequentSymbol = symbol\n",
    "        consensus += frequentSymbol # Add most frequent symbol\n",
    "    return consensus, counts\n",
    "\n",
    "\n",
    "def Score(Motifs):\n",
    "    #This really seems inefficient. We could have consensus return both values...\n",
    "    counts = CountWithPseudocounts(Motifs)\n",
    "    consensus, counts = Consensus(Motifs)\n",
    "    score = 0\n",
    "    for char in range(len(consensus)):\n",
    "        nucleotide = consensus[char] #Our nucleoutide\n",
    "        keys = [key for key in ['A','C',\"G\",\"T\"] if key != nucleotide ] # What are the non-consensus nucleotides\n",
    "        for key in keys:# For each key\n",
    "            score += counts[key][char] # add the number of times we were incorrect to our score\n",
    "    return score\n",
    "\n",
    "\n",
    "# Input:  A set of kmers Motifs\n",
    "# Output: CountWithPseudocounts(Motifs)\n",
    "def CountWithPseudocounts(Motifs):\n",
    "    count = {} # initializing the count dictionary\n",
    "    #Initialize each nucleotide with an empty list, \n",
    "    for nucleotide in [\"A\",\"C\",\"G\",\"T\"]:\n",
    "        count[nucleotide] = []     \n",
    "    for ind in range(len(Motifs[0])):\n",
    "        for nucleotide in [\"A\",\"C\",\"G\",\"T\"]:\n",
    "            count[nucleotide].append(1.0) #everything must have a 1 initially  (Now that we are dealing with pseudo counts)\n",
    "        for motif in range(len(Motifs)): #For each Motif, loop through chars\n",
    "            count[Motifs[motif][ind]][ind] += 1.0 # FOr each nuc, increment its count for that Motif\n",
    "    return count\n",
    "\n",
    "# Input:  A set of kmers Motifs\n",
    "# Output: ProfileWithPseudocounts(Motifs)\n",
    "#@jit\n",
    "def ProfileWithPseudocounts(Motifs):\n",
    "    t = len(Motifs)\n",
    "    k = len(Motifs[0])\n",
    "    profile = {}\n",
    "    counts = CountWithPseudocounts(Motifs)\n",
    "\n",
    "    for nucleotide in [\"A\",\"C\",\"G\",\"T\"]:\n",
    "        #everything must divided by the total number of Motifs  \n",
    "        #We added a single count to each nucleotide, hence the +4.0\n",
    "        profile[nucleotide] = [ float(count)/(float(t) + 4.0) for count in counts[nucleotide]]  \n",
    "    return profile\n",
    "\n",
    "# Input:  Positive integers k and t, followed by a list of strings Dna\n",
    "# Output: RandomizedMotifSearch(Dna, k, t)\n",
    "#@jit#(nopython=True)#Dictionaries not supported?\n",
    "def RandomizedMotifSearch(Dna, k, t):\n",
    "\n",
    "    M = RandomMotifs(Dna, k, t)\n",
    "    BestMotifs = M\n",
    "    \n",
    "    while True:\n",
    "        Profile = ProfileWithPseudocounts(M)\n",
    "        M = Motifs(Profile, Dna)\n",
    "        if Score(M) < Score(BestMotifs):\n",
    "            BestMotifs = M\n",
    "        else:\n",
    "            return BestMotifs "
   ]
  },
  {
   "cell_type": "code",
   "execution_count": 24,
   "metadata": {},
   "outputs": [
    {
     "data": {
      "text/plain": [
       "['GGGTGTTC', 'AGTGCCAA', 'AGTACCGA', 'AGGTGCAC', 'ACGTGCAA']"
      ]
     },
     "execution_count": 24,
     "metadata": {},
     "output_type": "execute_result"
    }
   ],
   "source": [
    "k,t = 8, 5\n",
    "Dna = [\"CGCCCCTCTCGGGGGTGTTCAGTAAACGGCCA\",\n",
    "    \"GGGCGAGGTATGTGTAAGTGCCAAGGTGCCAG\",\n",
    "    \"TAGTACCGAGACCGAAAGAAGTATACAGGCGT\",\n",
    "    \"TAGATCAAGTTTCAGGTGCACGTCGGTGAACC\",\n",
    "    \"AATCCACCAGCTCCACGTGCAATGTTGGCCTA\"]\n",
    "\n",
    "RandomizedMotifSearch(Dna,k,t)"
   ]
  },
  {
   "cell_type": "markdown",
   "metadata": {},
   "source": [
    "Exercise Break (2 points): In practice, we retain the best-scoring set of motifs over many runs of RandomizedMotifSearch. Add an input parameter N representing the number of runs of RandomizedMotifSearch, and then find the best-scoring motifs with k-mer length equal to 15 in the DosR dataset over N runs (click here to download). Don't forget to use pseudocounts!"
   ]
  },
  {
   "cell_type": "code",
   "execution_count": 25,
   "metadata": {},
   "outputs": [],
   "source": [
    "Dna = [\"GCGCCCCGCCCGGACAGCCATGCGCTAACCCTGGCTTCGATGGCGCCGGCTCAGTTAGGGCCGGAAGTCCCCAATGTGGCAGACCTTTCGCCCCTGGCGGACGAATGACCCCAGTGGCCGGGACTTCAGGCCCTATCGGAGGGCTCCGGCGCGGTGGTCGGATTTGTCTGTGGAGGTTACACCCCAATCGCAAGGATGCATTATGACCAGCGAGCTGAGCCTGGTCGCCACTGGAAAGGGGAGCAACATC\",\n",
    "\"CCGATCGGCATCACTATCGGTCCTGCGGCCGCCCATAGCGCTATATCCGGCTGGTGAAATCAATTGACAACCTTCGACTTTGAGGTGGCCTACGGCGAGGACAAGCCAGGCAAGCCAGCTGCCTCAACGCGCGCCAGTACGGGTCCATCGACCCGCGGCCCACGGGTCAAACGACCCTAGTGTTCGCTACGACGTGGTCGTACCTTCGGCAGCAGATCAGCAATAGCACCCCGACTCGAGGAGGATCCCG\",\n",
    "\"ACCGTCGATGTGCCCGGTCGCGCCGCGTCCACCTCGGTCATCGACCCCACGATGAGGACGCCATCGGCCGCGACCAAGCCCCGTGAAACTCTGACGGCGTGCTGGCCGGGCTGCGGCACCTGATCACCTTAGGGCACTTGGGCCACCACAACGGGCCGCCGGTCTCGACAGTGGCCACCACCACACAGGTGACTTCCGGCGGGACGTAAGTCCCTAACGCGTCGTTCCGCACGCGGTTAGCTTTGCTGCC\",\n",
    "\"GGGTCAGGTATATTTATCGCACACTTGGGCACATGACACACAAGCGCCAGAATCCCGGACCGAACCGAGCACCGTGGGTGGGCAGCCTCCATACAGCGATGACCTGATCGATCATCGGCCAGGGCGCCGGGCTTCCAACCGTGGCCGTCTCAGTACCCAGCCTCATTGACCCTTCGACGCATCCACTGCGCGTAAGTCGGCTCAACCCTTTCAAACCGCTGGATTACCGACCGCAGAAAGGGGGCAGGAC\",\n",
    "\"GTAGGTCAAACCGGGTGTACATACCCGCTCAATCGCCCAGCACTTCGGGCAGATCACCGGGTTTCCCCGGTATCACCAATACTGCCACCAAACACAGCAGGCGGGAAGGGGCGAAAGTCCCTTATCCGACAATAAAACTTCGCTTGTTCGACGCCCGGTTCACCCGATATGCACGGCGCCCAGCCATTCGTGACCGACGTCCCCAGCCCCAAGGCCGAACGACCCTAGGAGCCACGAGCAATTCACAGCG\",\n",
    "\"CCGCTGGCGACGCTGTTCGCCGGCAGCGTGCGTGACGACTTCGAGCTGCCCGACTACACCTGGTGACCACCGCCGACGGGCACCTCTCCGCCAGGTAGGCACGGTTTGTCGCCGGCAATGTGACCTTTGGGCGCGGTCTTGAGGACCTTCGGCCCCACCCACGAGGCCGCCGCCGGCCGATCGTATGACGTGCAATGTACGCCATAGGGTGCGTGTTACGGCGATTACCTGAAGGCGGCGGTGGTCCGGA\",\n",
    "\"GGCCAACTGCACCGCGCTCTTGATGACATCGGTGGTCACCATGGTGTCCGGCATGATCAACCTCCGCTGTTCGATATCACCCCGATCTTTCTGAACGGCGGTTGGCAGACAACAGGGTCAATGGTCCCCAAGTGGATCACCGACGGGCGCGGACAAATGGCCCGCGCTTCGGGGACTTCTGTCCCTAGCCCTGGCCACGATGGGCTGGTCGGATCAAAGGCATCCGTTTCCATCGATTAGGAGGCATCAA\",\n",
    "\"GTACATGTCCAGAGCGAGCCTCAGCTTCTGCGCAGCGACGGAAACTGCCACACTCAAAGCCTACTGGGCGCACGTGTGGCAACGAGTCGATCCACACGAAATGCCGCCGTTGGGCCGCGGACTAGCCGAATTTTCCGGGTGGTGACACAGCCCACATTTGGCATGGGACTTTCGGCCCTGTCCGCGTCCGTGTCGGCCAGACAAGCTTTGGGCATTGGCCACAATCGGGCCACAATCGAAAGCCGAGCAG\",\n",
    "\"GGCAGCTGTCGGCAACTGTAAGCCATTTCTGGGACTTTGCTGTGAAAAGCTGGGCGATGGTTGTGGACCTGGACGAGCCACCCGTGCGATAGGTGAGATTCATTCTCGCCCTGACGGGTTGCGTCTGTCATCGGTCGATAAGGACTAACGGCCCTCAGGTGGGGACCAACGCCCCTGGGAGATAGCGGTCCCCGCCAGTAACGTACCGCTGAACCGACGGGATGTATCCGCCCCAGCGAAGGAGACGGCG\",\n",
    "\"TCAGCACCATGACCGCCTGGCCACCAATCGCCCGTAACAAGCGGGACGTCCGCGACGACGCGTGCGCTAGCGCCGTGGCGGTGACAACGACCAGATATGGTCCGAGCACGCGGGCGAACCTCGTGTTCTGGCCTCGGCCAGTTGTGTAGAGCTCATCGCTGTCATCGAGCGATATCCGACCACTGATCCAAGTCGGGGGCTCTGGGGACCGAAGTCCCCGGGCTCGGAGCTATCGGACCTCACGATCACC\"]"
   ]
  },
  {
   "cell_type": "code",
   "execution_count": 27,
   "metadata": {},
   "outputs": [
    {
     "ename": "SyntaxError",
     "evalue": "invalid syntax (<ipython-input-27-bb3a111525c4>, line 22)",
     "output_type": "error",
     "traceback": [
      "\u001b[1;36m  File \u001b[1;32m\"<ipython-input-27-bb3a111525c4>\"\u001b[1;36m, line \u001b[1;32m22\u001b[0m\n\u001b[1;33m    ```\u001b[0m\n\u001b[1;37m    ^\u001b[0m\n\u001b[1;31mSyntaxError\u001b[0m\u001b[1;31m:\u001b[0m invalid syntax\n"
     ]
    }
   ],
   "source": [
    "\n",
    "# set t equal to the number of strings in Dna, k equal to 15, and N equal to 100.\n",
    "k, t = 15, len(Dna)\n",
    "\n",
    "# Call RandomizedMotifSearch(Dna, k, t) N times, storing the best-scoring set of motifs\n",
    "# resulting from this algorithm in a variable called BestMotifs\n",
    "N = 100 \n",
    "best_score = 999999.\n",
    "best_motifs = []\n",
    "for i in range(N):\n",
    "    motifs = RandomizedMotifSearch(Dna, k, t)\n",
    "    \n",
    "    if Score(motifs) < best_score:\n",
    "        best_score = Score(motifs)\n",
    "        best_motifs = motifs    \n",
    "\n",
    "# Print the BestMotifs variable\n",
    "print (best_motifs)\n",
    "# Print Score(BestMotifs)\n",
    "print (Score(best_motifs))\n",
    "\n",
    "\"\"\"Passed test #2. Correct! Below is the best set of Motifs in the DosR with k = 15 using RandomizedMotifSearch (with a score of 60):\n",
    "CCTGGCTTCGATGGC\n",
    "ACCCGCGGCCCACGG\n",
    "CGCCGCGTCCACCTC\n",
    "CGACGCATCCACTGC\n",
    "ACCGACGTCCCCAGC\n",
    "ACGCTGTTCGCCGGC\n",
    "CCGCTGTTCGATATC\n",
    "AGCCTCAGCTTCTGC\n",
    "GGTGGGGACCAACGC\n",
    "CCACTGATCCAAGTC\"\"\""
   ]
  },
  {
   "cell_type": "code",
   "execution_count": 1,
   "metadata": {},
   "outputs": [
    {
     "ename": "NameError",
     "evalue": "name 'jit' is not defined",
     "output_type": "error",
     "traceback": [
      "\u001b[1;31m---------------------------------------------------------------------------\u001b[0m",
      "\u001b[1;31mNameError\u001b[0m                                 Traceback (most recent call last)",
      "\u001b[1;32m<ipython-input-1-6f661eb440af>\u001b[0m in \u001b[0;36m<module>\u001b[1;34m()\u001b[0m\n\u001b[0;32m      3\u001b[0m \u001b[1;31m# Input:  A dictionary Probabilities whose keys are k-mers and whose values are the probabilities of these kmers\u001b[0m\u001b[1;33m\u001b[0m\u001b[1;33m\u001b[0m\u001b[0m\n\u001b[0;32m      4\u001b[0m \u001b[1;31m# Output: A randomly chosen k-mer with respect to the values in Probabilities\u001b[0m\u001b[1;33m\u001b[0m\u001b[1;33m\u001b[0m\u001b[0m\n\u001b[1;32m----> 5\u001b[1;33m \u001b[1;33m@\u001b[0m\u001b[0mjit\u001b[0m\u001b[1;33m\u001b[0m\u001b[0m\n\u001b[0m\u001b[0;32m      6\u001b[0m \u001b[1;32mdef\u001b[0m \u001b[0mWeightedDie\u001b[0m\u001b[1;33m(\u001b[0m\u001b[0mProbabilities\u001b[0m\u001b[1;33m)\u001b[0m\u001b[1;33m:\u001b[0m\u001b[1;33m\u001b[0m\u001b[0m\n\u001b[0;32m      7\u001b[0m     \u001b[0mkmer\u001b[0m \u001b[1;33m=\u001b[0m \u001b[1;34m''\u001b[0m \u001b[1;31m# output variable\u001b[0m\u001b[1;33m\u001b[0m\u001b[0m\n",
      "\u001b[1;31mNameError\u001b[0m: name 'jit' is not defined"
     ]
    }
   ],
   "source": []
  },
  {
   "cell_type": "code",
   "execution_count": null,
   "metadata": {},
   "outputs": [],
   "source": []
  }
 ],
 "metadata": {
  "kernelspec": {
   "display_name": "Python 3",
   "language": "python",
   "name": "python3"
  },
  "language_info": {
   "codemirror_mode": {
    "name": "ipython",
    "version": 3
   },
   "file_extension": ".py",
   "mimetype": "text/x-python",
   "name": "python",
   "nbconvert_exporter": "python",
   "pygments_lexer": "ipython3",
   "version": "3.7.0"
  }
 },
 "nbformat": 4,
 "nbformat_minor": 2
}
