{
 "cells": [
  {
   "cell_type": "markdown",
   "metadata": {},
   "source": [
    "In 1650, after the Scots proclaimed Charles II as king during the English Civil War, Oliver Cromwell made a famous appeal to the Church of Scotland. Urging them to see the error of their royal alliance, he pleaded,\n",
    "\n",
    "I beseech you, in the bowels of Christ, think it possible that you may be mistaken.\n",
    "\n",
    "The Scots rejected the appeal, and Cromwell invaded Scotland in response. His quotation later inspired the statistical maxim called Cromwell’s rule, which states that we should not use probabilities of 0 or 1 unless we are talking about logical statements that can only be true or false. In other words, we should allow a small probability for extremely unlikely events, such as “this book was written by aliens” or “the sun will not rise tomorrow”. We cannot speak to the likelihood of the former event, but in the 18th Century, the French mathematician Pierre-Simon Laplace actually estimated the probability that the sun will not rise tomorrow (1/1826251), given that it has risen every day for the past 5000 years. Although this estimate was ridiculed by his contemporaries, Laplace’s approach to this question now plays an important role in statistics. \n",
    "\n",
    "In any observed data set, there is the possibility, especially with low-probability events or small data sets, that an event with nonzero probability does not occur. Its observed frequency is therefore zero; however, setting the empirical probability of the event equal to zero represents an inaccurate oversimplification that may cause problems. By artificially adjusting the probability of rare events, these problems can be mitigated."
   ]
  },
  {
   "cell_type": "markdown",
   "metadata": {},
   "source": [
    "Cromwell’s rule is relevant to the calculation of the probability of a string based on a profile matrix. For example, consider the following Profile:\n",
    "\n",
    "\n",
    "\n",
    "The fourth symbol of \"TCGTGGATTTCC\" causes Pr(\"TCGTGGATTTCC\", Profile) to be equal to zero. As a result, the entire string is assigned a zero probability, even though \"TCGTGGATTTCC\" differs from the consensus string at only one position. For that matter, \"TCGTGGATTTCC\" has the same low probability as \"AAATCTTGGAA\", which differs from the consensus string at every position."
   ]
  },
  {
   "cell_type": "markdown",
   "metadata": {},
   "source": [
    "In order to improve this unfair scoring, bioinformaticians often substitute zeroes with small numbers called pseudocounts. The simplest approach to introducing pseudocounts, called Laplace’s Rule of Succession, is similar to the principle that Laplace used to calculate the probability that the sun will not rise tomorrow. In the case of motifs, pseudocounts often amount to adding 1 (or some other small number) to each element of Count(Motifs). For example, say that we have the following motif, count, and profile matrices:\n",
    "\n"
   ]
  },
  {
   "cell_type": "markdown",
   "metadata": {},
   "source": [
    "Laplace’s Rule of Succession adds 1 to each element of Count(Motifs), updating the two matrices to the following:\n",
    "\n",
    "\n",
    "\n",
    "\n",
    "Code Challenge (2 points): Write a function CountWithPseudocounts(Motifs) that takes a list of strings Motifs as input and returns the count matrix of Motifs with pseudocounts as a dictionary of lists. Then add this function to Motifs.py. (Hint: how can you solve this problem by making a very small change to your original function Count(Motifs)?\n"
   ]
  },
  {
   "cell_type": "code",
   "execution_count": 2,
   "metadata": {},
   "outputs": [],
   "source": [
    "# Input:  A set of kmers Motifs\n",
    "# Output: CountWithPseudocounts(Motifs)\n",
    "def CountWithPseudocounts(Motifs):\n",
    "    count = {} # initializing the count dictionary\n",
    "    #Initialize each nucleotide with an empty list, \n",
    "    for nucleotide in [\"A\",\"C\",\"G\",\"T\"]:\n",
    "        count[nucleotide] = []     \n",
    "    for ind in range(len(Motifs[0])):\n",
    "        for nucleotide in [\"A\",\"C\",\"G\",\"T\"]:\n",
    "            count[nucleotide].append(1.0) #everything must have a 1 initially  (Now that we are dealing with pseudo counts)\n",
    "        for motif in range(len(Motifs)): #For each Motif, loop through chars\n",
    "            count[Motifs[motif][ind]][ind] += 1.0 # FOr each nuc, increment its count for that Motif\n",
    "    return count\n",
    "\n"
   ]
  },
  {
   "cell_type": "code",
   "execution_count": 24,
   "metadata": {},
   "outputs": [],
   "source": [
    "#Test 0 # Sample Dataset (your code is not run on this dataset)\n",
    "#Input:\n",
    "Motifs1=[    \"AACGTA\",\n",
    "    \"CCCGTT\",\n",
    "    \"CACCTT\",\n",
    "    \"GGATTA\",\n",
    "    \"TTCCGG\"]\n",
    "#Output:\n",
    "out1=    {'A': [2, 3, 2, 1, 1, 3], 'C': [3, 2, 5, 3, 1, 1], 'T': [2, 2, 1, 2, 5, 3], 'G': [2, 2, 1, 3, 2, 2]}\n",
    "assert(CountWithPseudocounts(Motifs1) == out1)\n",
    "#Test 1 # Full dataset\n",
    "#Input:\n",
    "Motifs2=[       \"GTACAACTGT\",\n",
    "    \"CAACTATGAA\",\n",
    "    \"TCCTACAGGA\",\n",
    "    \"AAGCAAGGGT\",\n",
    "    \"GCGTACGACC\",\n",
    "    \"TCGTCAGCGT\",\n",
    "    \"AACAAGGTCA\",\n",
    "    \"CTCAGGCGTC\",\n",
    "    \"GGATCCAGGT\",\n",
    "    \"GGCAAGTACC\"]\n",
    "#Output:\n",
    "out2=    {'A': [3, 4, 4, 4, 7, 5, 3, 3, 2, 4], 'C': [3, 4, 5, 4, 3, 4, 3, 2, 4, 4], 'T': [3, 3, 1, 5, 2, 1, 3, 3, 2, 5], 'G': [5, 3, 4, 1, 2, 4, 5, 6, 6, 1]}\n",
    "assert(CountWithPseudocounts(Motifs2) == out2)"
   ]
  },
  {
   "cell_type": "code",
   "execution_count": 27,
   "metadata": {},
   "outputs": [],
   "source": [
    "# Input:  A set of kmers Motifs\n",
    "# Output: ProfileWithPseudocounts(Motifs)\n",
    "def ProfileWithPseudocounts(Motifs):\n",
    "    t = len(Motifs)\n",
    "    k = len(Motifs[0])\n",
    "    profile = {}\n",
    "    counts = CountWithPseudocounts(Motifs)\n",
    "\n",
    "    for nucleotide in [\"A\",\"C\",\"G\",\"T\"]:\n",
    "        #everything must divided by the total number of Motifs  \n",
    "        #We added a single count to each nucleotide, hence the +4.0\n",
    "        profile[nucleotide] = [ float(count)/(float(t) + 4.0) for count in counts[nucleotide]]  \n",
    "    return profile\n"
   ]
  },
  {
   "cell_type": "code",
   "execution_count": 28,
   "metadata": {},
   "outputs": [
    {
     "name": "stdout",
     "output_type": "stream",
     "text": [
      "{'A': [2, 3, 2, 1, 1, 3], 'C': [3, 2, 5, 3, 1, 1], 'G': [2, 2, 1, 3, 2, 2], 'T': [2, 2, 1, 2, 5, 3]}\n"
     ]
    },
    {
     "data": {
      "text/plain": [
       "{'A': [0.2222222222222222,\n",
       "  0.3333333333333333,\n",
       "  0.2222222222222222,\n",
       "  0.1111111111111111,\n",
       "  0.1111111111111111,\n",
       "  0.3333333333333333],\n",
       " 'C': [0.3333333333333333,\n",
       "  0.2222222222222222,\n",
       "  0.5555555555555556,\n",
       "  0.3333333333333333,\n",
       "  0.1111111111111111,\n",
       "  0.1111111111111111],\n",
       " 'G': [0.2222222222222222,\n",
       "  0.2222222222222222,\n",
       "  0.1111111111111111,\n",
       "  0.3333333333333333,\n",
       "  0.2222222222222222,\n",
       "  0.2222222222222222],\n",
       " 'T': [0.2222222222222222,\n",
       "  0.2222222222222222,\n",
       "  0.1111111111111111,\n",
       "  0.2222222222222222,\n",
       "  0.5555555555555556,\n",
       "  0.3333333333333333]}"
      ]
     },
     "execution_count": 28,
     "metadata": {},
     "output_type": "execute_result"
    }
   ],
   "source": [
    "out1 =  {'A': [0.2222222222222222, 0.3333333333333333, 0.2222222222222222, 0.1111111111111111, 0.1111111111111111, 0.3333333333333333], 'C': [0.3333333333333333, 0.2222222222222222, 0.5555555555555556, 0.3333333333333333, 0.1111111111111111, 0.1111111111111111], 'T': [0.2222222222222222, 0.2222222222222222, 0.1111111111111111, 0.2222222222222222, 0.5555555555555556, 0.3333333333333333], 'G': [0.2222222222222222, 0.2222222222222222, 0.1111111111111111, 0.3333333333333333, 0.2222222222222222, 0.2222222222222222]}\n",
    "out2 =  {'A': [0.21428571428571427, 0.2857142857142857, 0.2857142857142857, 0.2857142857142857, 0.5, 0.35714285714285715, 0.21428571428571427, 0.21428571428571427, 0.14285714285714285, 0.2857142857142857], 'C': [0.21428571428571427, 0.2857142857142857, 0.35714285714285715, 0.2857142857142857, 0.21428571428571427, 0.2857142857142857, 0.21428571428571427, 0.14285714285714285, 0.2857142857142857, 0.2857142857142857], 'T': [0.21428571428571427, 0.21428571428571427, 0.07142857142857142, 0.35714285714285715, 0.14285714285714285, 0.07142857142857142, 0.21428571428571427, 0.21428571428571427, 0.14285714285714285, 0.35714285714285715], 'G': [0.35714285714285715, 0.21428571428571427, 0.2857142857142857, 0.07142857142857142, 0.14285714285714285, 0.2857142857142857, 0.35714285714285715, 0.42857142857142855, 0.42857142857142855, 0.07142857142857142]}\n",
    "#assert (ProfileWithPseudocounts(Motifs1)==out1)\n",
    "ProfileWithPseudocounts(Motifs1)"
   ]
  },
  {
   "cell_type": "markdown",
   "metadata": {},
   "source": [
    "We now will apply Laplace’s Rule of Succession to search for the (4, 1)-motif \"ACGT\" implanted in the following strings Dna: \n",
    "\n",
    "\n",
    "\n",
    "\n",
    "Again, let’s assume that the algorithm has already chosen the implanted 4-mer \"ACCT\" from the first string. We can construct the corresponding count and profile matrices using Laplace’s Rule of Succession:\n",
    "\n",
    "\n",
    "\n",
    "\n",
    "We use this profile matrix to compute the probabilities of all 4-mers in the second string from Dna: ",
    "\n",
    "\n",
    "\n"
   ]
  },
  {
   "cell_type": "markdown",
   "metadata": {},
   "source": [
    "There are two Profile-most probable 4-mers in the second string (\"ATGT\" and \"GTct\"); let’s assume that we get lucky again and choose the implanted 4-mer \"ATGT\". We now have the following motif, count, and profile matrices:\n",
    "\n"
   ]
  },
  {
   "cell_type": "code",
   "execution_count": null,
   "metadata": {},
   "outputs": [],
   "source": []
  }
 ],
 "metadata": {
  "kernelspec": {
   "display_name": "Python 3",
   "language": "python",
   "name": "python3"
  },
  "language_info": {
   "codemirror_mode": {
    "name": "ipython",
    "version": 3
   },
   "file_extension": ".py",
   "mimetype": "text/x-python",
   "name": "python",
   "nbconvert_exporter": "python",
   "pygments_lexer": "ipython3",
   "version": "3.7.0"
  }
 },
 "nbformat": 4,
 "nbformat_minor": 2
}
