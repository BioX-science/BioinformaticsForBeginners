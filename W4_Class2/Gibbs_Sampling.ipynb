{
 "cells": [
  {
   "cell_type": "markdown",
   "metadata": {},
   "source": [
    "Code Challenge (3 points): Now that you have seen how GibbsSampler works, implement it in Python as a final challenge in this chapter. Your function should take a parameter N corresponding to the number of iterations that we plan to run the program. Don't forget to use pseudocounts!\n",
    "\n",
    "Note: If you have trouble implementing GibbsSampler, please see below, where we provide a description of GibbsSampler using pseudocode, a method of describing algorithms that is not dependent on a particular programming language like Python. If you are interested in learning more about how biological problems can be solved computationally, please check out our Bioinformatics Specialization or its print companion, Bioinformatics Algorithms: An Active Learning Approach, which uses pseudocode to discuss dozens of bioinformatics algorithms.\n"
   ]
  },
  {
   "cell_type": "code",
   "execution_count": 37,
   "metadata": {},
   "outputs": [],
   "source": [
    "from numba import jit\n",
    "import random\n",
    "\n",
    "# Input: A dictionary Probabilities, where keys are k-mers and values are the probabilities of these k-mers (which do not necessarily sum up to 1)\n",
    "# Output: A normalized dictionary where the probability of each k-mer was divided by the sum of all k-mers' probabilities\n",
    "#@jit\n",
    "def Normalize(Probabilities):\n",
    "    _sum_probs = 0.0 #Sum of all probabilities\n",
    "    new_prob = Probabilities.copy()#Make a copy.\n",
    "    \n",
    "    for key in Probabilities.keys():\n",
    "        _sum_probs += Probabilities[key] #add up all probabilites\n",
    "        \n",
    "    for key in Probabilities.keys():\n",
    "        new_prob[key] = Probabilities[key] / _sum_probs   #Normalize values   \n",
    "        \n",
    "    return new_prob\n",
    "\n",
    "#@jit\n",
    "def WeightedDie(Probabilities):\n",
    "    key_list = Probabilities.keys()\n",
    "    bounded_probabilities = Probabilities.copy()\n",
    "    #print (\"Probabilities Raw\", Probabilities)\n",
    "    #Build an ascending list of values\n",
    "    previous_value = 0.0 #Start with 0.0 Prob\n",
    "    for key in key_list:\n",
    "        bounded_probabilities[key] = previous_value + Probabilities[key]\n",
    "        previous_value = bounded_probabilities[key]\n",
    "    \n",
    "    #print (\"Bounded Probab\", bounded_probabilities)\n",
    "    #Now we roll the dice to see which bound we fall in.\n",
    "    previous_value = 0.0 #Start with 0.0 Prob\n",
    "    rand_value = random.uniform(0,1) \n",
    "    for key in key_list:\n",
    "        #If our choice is between 0.0 and 0.25, then return 'A', for example\n",
    "        if (rand_value >= previous_value) and (rand_value < bounded_probabilities[key]):\n",
    "            return key\n",
    "        previous_value = bounded_probabilities[key] #We try the next value\n",
    "\n",
    "#@jit\n",
    "def Pr(Motif, Profile):\n",
    "    prob=1.0\n",
    "    for char in range(len(Motif)):\n",
    "        prob *= Profile[Motif[char]][char] # What is the probability that this character is in this position?    \n",
    "    #print (\"Prob in Pr\", prob)\n",
    "    return prob\n",
    "\n",
    "# Input:  A string Text, a profile matrix Profile, and an integer k\n",
    "# Output: ProfileGeneratedString(Text, profile, k)\n",
    "#@jit\n",
    "def ProfileGeneratedString(Text, profile, k):\n",
    "    n = len(Text)\n",
    "    probabilities = {} \n",
    "    for i in range(n-k+1):\n",
    "        #print(\"Pr\", Pr(Text[i:i+k], profile))\n",
    "        probabilities[Text[i:i+k]] = Pr(Text[i:i+k], profile)\n",
    "    probabilities = Normalize(probabilities)\n",
    "    #print (probabilities)\n",
    "    return WeightedDie(probabilities)    \n",
    "\n",
    "#@jit\n",
    "def Score(Motifs):\n",
    "    #This really seems inefficient. We could have consensus return both values...\n",
    "    counts = CountWithPseudocounts(Motifs)\n",
    "    consensus, counts = Consensus(Motifs)\n",
    "    score = 0\n",
    "    for char in range(len(consensus)):\n",
    "        nucleotide = consensus[char] #Our nucleoutide\n",
    "        keys = [key for key in ['A','C',\"G\",\"T\"] if key != nucleotide ] # What are the non-consensus nucleotides\n",
    "        for key in keys:# For each key\n",
    "            score += counts[key][char] # add the number of times we were incorrect to our score\n",
    "    return score\n",
    "\n",
    "# Input:  A set of kmers Motifs\n",
    "# Output: CountWithPseudocounts(Motifs)\n",
    "#@jit\n",
    "def CountWithPseudocounts(Motifs):\n",
    "    count = {} # initializing the count dictionary\n",
    "    #Initialize each nucleotide with an empty list, \n",
    "    for nucleotide in [\"A\",\"C\",\"G\",\"T\"]:\n",
    "        count[nucleotide] = []     \n",
    "    for ind in range(len(Motifs[0])):\n",
    "        for nucleotide in [\"A\",\"C\",\"G\",\"T\"]:\n",
    "            count[nucleotide].append(1.0) #everything must have a 1 initially  (Now that we are dealing with pseudo counts)\n",
    "        for motif in range(len(Motifs)): #For each Motif, loop through chars\n",
    "            count[Motifs[motif][ind]][ind] += 1.0 # FOr each nuc, increment its count for that Motif\n",
    "    return count\n",
    "\n",
    "#@jit\n",
    "# Input:  A list of strings Dna, and integers k and t\n",
    "# Output: RandomMotifs(Dna, k, t)\n",
    "def RandomMotifs(Dna, k, t):\n",
    "    rand_motifs = []\n",
    "    m = len(Dna[0])# What is the max length of one of our strings?\n",
    "    for text in Dna:\n",
    "            i = random.randint(0, m-k)#Pick a random int that is up to k less than the max value\n",
    "            rand_motifs.append(text[i:i+k])\n",
    "    return rand_motifs\n",
    "\n",
    "#@jit\n",
    "def ProfileWithPseudocounts(Motifs):\n",
    "    t = len(Motifs)\n",
    "    k = len(Motifs[0])\n",
    "    profile = {}\n",
    "    counts = CountWithPseudocounts(Motifs)\n",
    "\n",
    "    for nucleotide in [\"A\",\"C\",\"G\",\"T\"]:\n",
    "        #everything must divided by the total number of Motifs  \n",
    "        #We added a single count to each nucleotide, hence the +4.0\n",
    "        profile[nucleotide] = [ float(count)/(float(t) + 4.0) for count in counts[nucleotide]]  \n",
    "    return profile\n",
    "\n",
    "# Input:  A set of kmers Motifs\n",
    "# Output: A consensus string of Motifs.\n",
    "def Consensus(Motifs):\n",
    "    consensus = \"\" #empty string.\n",
    "    counts = CountWithPseudocounts(Motifs)\n",
    "\n",
    "    for j in range(len(Motifs[0])):\n",
    "        m = 0\n",
    "        frequentSymbol = \"\"\n",
    "        for symbol in \"ACGT\":\n",
    "            if counts[symbol][j] > m:\n",
    "                m = counts[symbol][j]\n",
    "                frequentSymbol = symbol\n",
    "        consensus += frequentSymbol # Add most frequent symbol\n",
    "    return consensus, counts"
   ]
  },
  {
   "cell_type": "markdown",
   "metadata": {},
   "source": [
    "```\n",
    "    GibbsSampler(Dna, k, t, N)\n",
    "        randomly select k-mers Motifs = (Motif1, …, Motift) in each string from Dna\n",
    "        ﻿BestMotifs ← Motifs\n",
    "        for j ← 1 to N\n",
    "            i ← randomly generated integer between 1 and t\n",
    "            Profile ← profile matrix formed from all strings in Motifs except for Motifi\n",
    "            Motif_i ← Profile-randomly generated k-mer in the i-th string\n",
    "            if Score(Motifs) < Score(BestMotifs)\n",
    "                BestMotifs ← Motifs\n",
    "        return BestMotifs\n",
    "        \n",
    "```"
   ]
  },
  {
   "cell_type": "code",
   "execution_count": 45,
   "metadata": {},
   "outputs": [],
   "source": [
    "#@jit(nopython=True)\n",
    "def GibbsSampler(Dna, k, t , N):\n",
    "    BestMotifs = RandomMotifs(Dna, k, t)\n",
    "    for iter_num in range(N):\n",
    "        rand_value = random.randint(0,t)  # Which kmer will we leave untouched\n",
    "        _minus1_Motifs = []\n",
    "        for x in range(t):\n",
    "            if x != rand_value:\n",
    "                _minus1_Motifs.append(BestMotifs[x])\n",
    "        Profile = ProfileWithPseudocounts(_minus1_Motifs) #Build profile from this subset\n",
    "        #print (\"Profile\",Profile)\n",
    "        #Build t motifs with this profile\n",
    "        Motifs = []\n",
    "        for i in range(t):\n",
    "            #print (i, ProfileGeneratedString(Dna, Profile, k))\n",
    "            Motifs.append(ProfileGeneratedString(Dna[i], Profile, k)) \n",
    "        #print (Motifs, BestMotifs)\n",
    "        if Score(Motifs) < Score(BestMotifs):\n",
    "            BestMotifs = Motifs\n",
    "    return BestMotifs"
   ]
  },
  {
   "cell_type": "code",
   "execution_count": null,
   "metadata": {},
   "outputs": [],
   "source": [
    "k, t, N = 8, 5, 100\n",
    "Dna1 =[ \"CGCCCCTCTCGGGGGTGTTCAGTAAACGGCCA\",\n",
    "\"GGGCGAGGTATGTGTAAGTGCCAAGGTGCCAG\",\n",
    "\"TAGTACCGAGACCGAAAGAAGTATACAGGCGT\",\n",
    "\"TAGATCAAGTTTCAGGTGCACGTCGGTGAACC\",\n",
    "\"AATCCACCAGCTCCACGTGCAATGTTGGCCTA\"]\n",
    "# Possible Output: AACGGCCA AAGTGCCA TAGTACCG  AAGTTTCA ACGTGCAA"
   ]
  },
  {
   "cell_type": "code",
   "execution_count": 40,
   "metadata": {},
   "outputs": [
    {
     "name": "stdout",
     "output_type": "stream",
     "text": [
      "0.03390836715698242\n",
      "['GTAAACGG', 'GTATGTGT', 'GTATACAG', 'GTGCACGT', 'CTCCACGT']\n"
     ]
    }
   ],
   "source": [
    "import time\n",
    "t0 = time.time()\n",
    "best_out = GibbsSampler(Dna1, k, t , N)\n",
    "print (time.time()-t0)\n",
    "print (best_out)"
   ]
  },
  {
   "cell_type": "code",
   "execution_count": 46,
   "metadata": {},
   "outputs": [
    {
     "name": "stdout",
     "output_type": "stream",
     "text": [
      "3.046574831008911\n",
      "['GGGTGTTC', 'ATGTGTAA', 'AAGTATAC', 'AGGTGCAC', 'ACGTGCAA']\n"
     ]
    }
   ],
   "source": [
    "import time\n",
    "t0 = time.time()\n",
    "best_out = GibbsSampler(Dna1, k, t , 10000)#2.972266674041748\n",
    "print (time.time()-t0)\n",
    "print (best_out)"
   ]
  },
  {
   "cell_type": "markdown",
   "metadata": {},
   "source": [
    "Exercise Break (1 point): Run GibbsSampler on the DosR dataset (click here to download) for 20 different starts, each time with N = 100, and with k-mer length equal to 15. Don't forget to use pseudocounts!"
   ]
  },
  {
   "cell_type": "code",
   "execution_count": 42,
   "metadata": {},
   "outputs": [],
   "source": [
    "Dna = [\n",
    "    \"GCGCCCCGCCCGGACAGCCATGCGCTAACCCTGGCTTCGATGGCGCCGGCTCAGTTAGGGCCGGAAGTCCCCAATGTGGCAGACCTTTCGCCCCTGGCGGACGAATGACCCCAGTGGCCGGGACTTCAGGCCCTATCGGAGGGCTCCGGCGCGGTGGTCGGATTTGTCTGTGGAGGTTACACCCCAATCGCAAGGATGCATTATGACCAGCGAGCTGAGCCTGGTCGCCACTGGAAAGGGGAGCAACATC\",\n",
    "    \"CCGATCGGCATCACTATCGGTCCTGCGGCCGCCCATAGCGCTATATCCGGCTGGTGAAATCAATTGACAACCTTCGACTTTGAGGTGGCCTACGGCGAGGACAAGCCAGGCAAGCCAGCTGCCTCAACGCGCGCCAGTACGGGTCCATCGACCCGCGGCCCACGGGTCAAACGACCCTAGTGTTCGCTACGACGTGGTCGTACCTTCGGCAGCAGATCAGCAATAGCACCCCGACTCGAGGAGGATCCCG\",\n",
    "    \"ACCGTCGATGTGCCCGGTCGCGCCGCGTCCACCTCGGTCATCGACCCCACGATGAGGACGCCATCGGCCGCGACCAAGCCCCGTGAAACTCTGACGGCGTGCTGGCCGGGCTGCGGCACCTGATCACCTTAGGGCACTTGGGCCACCACAACGGGCCGCCGGTCTCGACAGTGGCCACCACCACACAGGTGACTTCCGGCGGGACGTAAGTCCCTAACGCGTCGTTCCGCACGCGGTTAGCTTTGCTGCC\",\n",
    "    \"GGGTCAGGTATATTTATCGCACACTTGGGCACATGACACACAAGCGCCAGAATCCCGGACCGAACCGAGCACCGTGGGTGGGCAGCCTCCATACAGCGATGACCTGATCGATCATCGGCCAGGGCGCCGGGCTTCCAACCGTGGCCGTCTCAGTACCCAGCCTCATTGACCCTTCGACGCATCCACTGCGCGTAAGTCGGCTCAACCCTTTCAAACCGCTGGATTACCGACCGCAGAAAGGGGGCAGGAC\",\n",
    "    \"GTAGGTCAAACCGGGTGTACATACCCGCTCAATCGCCCAGCACTTCGGGCAGATCACCGGGTTTCCCCGGTATCACCAATACTGCCACCAAACACAGCAGGCGGGAAGGGGCGAAAGTCCCTTATCCGACAATAAAACTTCGCTTGTTCGACGCCCGGTTCACCCGATATGCACGGCGCCCAGCCATTCGTGACCGACGTCCCCAGCCCCAAGGCCGAACGACCCTAGGAGCCACGAGCAATTCACAGCG\",\n",
    "    \"CCGCTGGCGACGCTGTTCGCCGGCAGCGTGCGTGACGACTTCGAGCTGCCCGACTACACCTGGTGACCACCGCCGACGGGCACCTCTCCGCCAGGTAGGCACGGTTTGTCGCCGGCAATGTGACCTTTGGGCGCGGTCTTGAGGACCTTCGGCCCCACCCACGAGGCCGCCGCCGGCCGATCGTATGACGTGCAATGTACGCCATAGGGTGCGTGTTACGGCGATTACCTGAAGGCGGCGGTGGTCCGGA\",\n",
    "    \"GGCCAACTGCACCGCGCTCTTGATGACATCGGTGGTCACCATGGTGTCCGGCATGATCAACCTCCGCTGTTCGATATCACCCCGATCTTTCTGAACGGCGGTTGGCAGACAACAGGGTCAATGGTCCCCAAGTGGATCACCGACGGGCGCGGACAAATGGCCCGCGCTTCGGGGACTTCTGTCCCTAGCCCTGGCCACGATGGGCTGGTCGGATCAAAGGCATCCGTTTCCATCGATTAGGAGGCATCAA\",\n",
    "    \"GTACATGTCCAGAGCGAGCCTCAGCTTCTGCGCAGCGACGGAAACTGCCACACTCAAAGCCTACTGGGCGCACGTGTGGCAACGAGTCGATCCACACGAAATGCCGCCGTTGGGCCGCGGACTAGCCGAATTTTCCGGGTGGTGACACAGCCCACATTTGGCATGGGACTTTCGGCCCTGTCCGCGTCCGTGTCGGCCAGACAAGCTTTGGGCATTGGCCACAATCGGGCCACAATCGAAAGCCGAGCAG\",\n",
    "    \"GGCAGCTGTCGGCAACTGTAAGCCATTTCTGGGACTTTGCTGTGAAAAGCTGGGCGATGGTTGTGGACCTGGACGAGCCACCCGTGCGATAGGTGAGATTCATTCTCGCCCTGACGGGTTGCGTCTGTCATCGGTCGATAAGGACTAACGGCCCTCAGGTGGGGACCAACGCCCCTGGGAGATAGCGGTCCCCGCCAGTAACGTACCGCTGAACCGACGGGATGTATCCGCCCCAGCGAAGGAGACGGCG\",\n",
    "    \"TCAGCACCATGACCGCCTGGCCACCAATCGCCCGTAACAAGCGGGACGTCCGCGACGACGCGTGCGCTAGCGCCGTGGCGGTGACAACGACCAGATATGGTCCGAGCACGCGGGCGAACCTCGTGTTCTGGCCTCGGCCAGTTGTGTAGAGCTCATCGCTGTCATCGAGCGATATCCGACCACTGATCCAAGTCGGGGGCTCTGGGGACCGAAGTCCCCGGGCTCGGAGCTATCGGACCTCACGATCACC\"\n",
    "] "
   ]
  },
  {
   "cell_type": "code",
   "execution_count": null,
   "metadata": {},
   "outputs": [],
   "source": [
    "# import the random package\n",
    "\n",
    "# Copy your GibbsSampler function (along with all required subroutines) below this line\n",
    "\n",
    "# Copy the ten strings occurring in the hyperlinked DosR dataset below.\n",
    "Dna = [\n",
    "    \"GCGCCCCGCCCGGACAGCCATGCGCTAACCCTGGCTTCGATGGCGCCGGCTCAGTTAGGGCCGGAAGTCCCCAATGTGGCAGACCTTTCGCCCCTGGCGGACGAATGACCCCAGTGGCCGGGACTTCAGGCCCTATCGGAGGGCTCCGGCGCGGTGGTCGGATTTGTCTGTGGAGGTTACACCCCAATCGCAAGGATGCATTATGACCAGCGAGCTGAGCCTGGTCGCCACTGGAAAGGGGAGCAACATC\",\n",
    "    \"CCGATCGGCATCACTATCGGTCCTGCGGCCGCCCATAGCGCTATATCCGGCTGGTGAAATCAATTGACAACCTTCGACTTTGAGGTGGCCTACGGCGAGGACAAGCCAGGCAAGCCAGCTGCCTCAACGCGCGCCAGTACGGGTCCATCGACCCGCGGCCCACGGGTCAAACGACCCTAGTGTTCGCTACGACGTGGTCGTACCTTCGGCAGCAGATCAGCAATAGCACCCCGACTCGAGGAGGATCCCG\",\n",
    "    \"ACCGTCGATGTGCCCGGTCGCGCCGCGTCCACCTCGGTCATCGACCCCACGATGAGGACGCCATCGGCCGCGACCAAGCCCCGTGAAACTCTGACGGCGTGCTGGCCGGGCTGCGGCACCTGATCACCTTAGGGCACTTGGGCCACCACAACGGGCCGCCGGTCTCGACAGTGGCCACCACCACACAGGTGACTTCCGGCGGGACGTAAGTCCCTAACGCGTCGTTCCGCACGCGGTTAGCTTTGCTGCC\",\n",
    "    \"GGGTCAGGTATATTTATCGCACACTTGGGCACATGACACACAAGCGCCAGAATCCCGGACCGAACCGAGCACCGTGGGTGGGCAGCCTCCATACAGCGATGACCTGATCGATCATCGGCCAGGGCGCCGGGCTTCCAACCGTGGCCGTCTCAGTACCCAGCCTCATTGACCCTTCGACGCATCCACTGCGCGTAAGTCGGCTCAACCCTTTCAAACCGCTGGATTACCGACCGCAGAAAGGGGGCAGGAC\",\n",
    "    \"GTAGGTCAAACCGGGTGTACATACCCGCTCAATCGCCCAGCACTTCGGGCAGATCACCGGGTTTCCCCGGTATCACCAATACTGCCACCAAACACAGCAGGCGGGAAGGGGCGAAAGTCCCTTATCCGACAATAAAACTTCGCTTGTTCGACGCCCGGTTCACCCGATATGCACGGCGCCCAGCCATTCGTGACCGACGTCCCCAGCCCCAAGGCCGAACGACCCTAGGAGCCACGAGCAATTCACAGCG\",\n",
    "    \"CCGCTGGCGACGCTGTTCGCCGGCAGCGTGCGTGACGACTTCGAGCTGCCCGACTACACCTGGTGACCACCGCCGACGGGCACCTCTCCGCCAGGTAGGCACGGTTTGTCGCCGGCAATGTGACCTTTGGGCGCGGTCTTGAGGACCTTCGGCCCCACCCACGAGGCCGCCGCCGGCCGATCGTATGACGTGCAATGTACGCCATAGGGTGCGTGTTACGGCGATTACCTGAAGGCGGCGGTGGTCCGGA\",\n",
    "    \"GGCCAACTGCACCGCGCTCTTGATGACATCGGTGGTCACCATGGTGTCCGGCATGATCAACCTCCGCTGTTCGATATCACCCCGATCTTTCTGAACGGCGGTTGGCAGACAACAGGGTCAATGGTCCCCAAGTGGATCACCGACGGGCGCGGACAAATGGCCCGCGCTTCGGGGACTTCTGTCCCTAGCCCTGGCCACGATGGGCTGGTCGGATCAAAGGCATCCGTTTCCATCGATTAGGAGGCATCAA\",\n",
    "    \"GTACATGTCCAGAGCGAGCCTCAGCTTCTGCGCAGCGACGGAAACTGCCACACTCAAAGCCTACTGGGCGCACGTGTGGCAACGAGTCGATCCACACGAAATGCCGCCGTTGGGCCGCGGACTAGCCGAATTTTCCGGGTGGTGACACAGCCCACATTTGGCATGGGACTTTCGGCCCTGTCCGCGTCCGTGTCGGCCAGACAAGCTTTGGGCATTGGCCACAATCGGGCCACAATCGAAAGCCGAGCAG\",\n",
    "    \"GGCAGCTGTCGGCAACTGTAAGCCATTTCTGGGACTTTGCTGTGAAAAGCTGGGCGATGGTTGTGGACCTGGACGAGCCACCCGTGCGATAGGTGAGATTCATTCTCGCCCTGACGGGTTGCGTCTGTCATCGGTCGATAAGGACTAACGGCCCTCAGGTGGGGACCAACGCCCCTGGGAGATAGCGGTCCCCGCCAGTAACGTACCGCTGAACCGACGGGATGTATCCGCCCCAGCGAAGGAGACGGCG\",\n",
    "    \"TCAGCACCATGACCGCCTGGCCACCAATCGCCCGTAACAAGCGGGACGTCCGCGACGACGCGTGCGCTAGCGCCGTGGCGGTGACAACGACCAGATATGGTCCGAGCACGCGGGCGAACCTCGTGTTCTGGCCTCGGCCAGTTGTGTAGAGCTCATCGCTGTCATCGAGCGATATCCGACCACTGATCCAAGTCGGGGGCTCTGGGGACCGAAGTCCCCGGGCTCGGAGCTATCGGACCTCACGATCACC\"\n",
    "] \n",
    "\n",
    "# set t equal to the number of strings in Dna, k equal to 15, and N equal to 100\n",
    "t , k, N = len(Dna), 15, 10000\n",
    "# Call GibbsSampler(Dna, k, t, N) 20 times and store the best output in a variable called BestMotifs\n",
    "BestMotifsScore=-999\n",
    "for i in range(20):\n",
    "    _motifs = GibbsSampler(Dna, k, t, N)\n",
    "    if Score(_motifs) > BestMotifsScore:\n",
    "        BestMotifsScore=Score(_motifs)\n",
    "        BestMotifs=_motifs\n",
    "# Print the BestMotifs variable\n",
    "print (BestMotifs)\n",
    "# Print Score(BestMotifs)\n",
    "print (BestMotifsScore)"
   ]
  },
  {
   "cell_type": "markdown",
   "metadata": {},
   "source": [
    "Searching for the DosR motif\n",
    "What k-mer size should we choose in order to analyze the DosR dataset using GibbsSampler? Taking a wild guess and running RandomizedMotifSearch for varying values of k returns the consensus strings shown in the figure below.\n",
    "\n",
    "\n",
    "\n",
    "Figure: The result of running RandomizedMotifSearch for k between 8 and 12 as well as k equal to 20. Consensus strings have been aligned in order to highlight their similarities.\n",
    "\n",
    "STOP and Think: Can you infer the DosR binding site from these strings? What do you think is the length of the binding site?"
   ]
  },
  {
   "cell_type": "markdown",
   "metadata": {},
   "source": [
    "The motif of length 20 found by RandomizedMotifSearch is \"CGGGACCTACGTCCCTAGCC\" (with score 57). In 2000 runs, GibbsSampler generated a different collection of motifs with a smaller score of 55. But these motifs had the same consensus string!\n",
    "\n",
    "Despite evidence in favor of this consensus string as the DosR motif, we are still not sure that it should have length 20, or even that it is correct, since some other motif finding algorithm might find a set of motifs with even lower score. Can you further refine the algorithms that we have presented to find all putative DosR motifs in MTB as well as all genes that they regulate?\n",
    "\n",
    "We hope that you have enjoyed learning a little more about how computation is vital to modern biology, and that we have helped you start a path toward becoming an expert programmer. We would love to have you in the Bioinformatics Specialization, an entire series of courses at the frontier of computational biology; if you're interested, please see the Specialization's wacky introductory video at the bottom of the page :)\n",
    "\n",
    "Even more importantly, you don't have to program in order to complete the Bioinformatics Specialization. We employ pseudocode, a powerful paradigm that helps us discuss algorithms without relying on any particular programming language. If you are interested in continuing on with implementing algorithms, then we provide an \"Honors Track\" in which you can flex your programming muscles. The first course in the series, Finding Hidden Messages in DNA, covers much of the same introductory material that we have seen in this class, in the hope of making your transition to the Bioinformatics Specialization as easy as possible. \n",
    "\n",
    "And if you plan on still using Python, you should be ready to complete the remainder of the Codecademy Python Track. In addition, you now have two files (Replication.py and Motifs.py) full of functions to get you started with running Python on your own machine. To do so, download the latest version of Python 3 from the Python website. We also suggest downloading a development environment like PyCharm that will make building your own projects in Python a breeze.\n",
    "\n",
    "Happy Coding!"
   ]
  },
  {
   "cell_type": "code",
   "execution_count": null,
   "metadata": {},
   "outputs": [],
   "source": []
  }
 ],
 "metadata": {
  "kernelspec": {
   "display_name": "Python 3",
   "language": "python",
   "name": "python3"
  },
  "language_info": {
   "codemirror_mode": {
    "name": "ipython",
    "version": 3
   },
   "file_extension": ".py",
   "mimetype": "text/x-python",
   "name": "python",
   "nbconvert_exporter": "python",
   "pygments_lexer": "ipython3",
   "version": "3.7.0"
  }
 },
 "nbformat": 4,
 "nbformat_minor": 2
}
